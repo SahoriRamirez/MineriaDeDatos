{
 "cells": [
  {
   "cell_type": "markdown",
   "metadata": {},
   "source": [
    "# Limpieza de Datos\n"
   ]
  },
  {
   "cell_type": "markdown",
   "metadata": {},
   "source": [
    "**Integrantes:**\n",
    "\n",
    "    - 1802780, Ramírez Medellín, Sahori Verónica\n",
    "    - 1937834, Flores Guerra, Irlanda Victoria\n",
    "    - 1806569, Treviño Elizondo, Melenie Anahí\n",
    "    - 1802294, Nuñes Márquez,Kevin Orlando\n",
    "    \n",
    "###### Equipo: 04"
   ]
  },
  {
   "cell_type": "markdown",
   "metadata": {},
   "source": [
    "## Suicide Rates Overview 1985 to 2016\n",
    "\n",
    "https://www.kaggle.com/russellyates88/suicide-rates-overview-1985-to-2016\n",
    "\n",
    "**Datos sin manipulación:**"
   ]
  },
  {
   "cell_type": "code",
   "execution_count": 2,
   "metadata": {},
   "outputs": [
    {
     "name": "stdout",
     "output_type": "stream",
     "text": [
      "          country  year     sex          age  suicides_no  population  \\\n",
      "0         Albania  1987    male  15-24 years           21      312900   \n",
      "1         Albania  1987    male  35-54 years           16      308000   \n",
      "2         Albania  1987  female  15-24 years           14      289700   \n",
      "3         Albania  1987    male    75+ years            1       21800   \n",
      "4         Albania  1987    male  25-34 years            9      274300   \n",
      "...           ...   ...     ...          ...          ...         ...   \n",
      "27815  Uzbekistan  2014  female  35-54 years          107     3620833   \n",
      "27816  Uzbekistan  2014  female    75+ years            9      348465   \n",
      "27817  Uzbekistan  2014    male   5-14 years           60     2762158   \n",
      "27818  Uzbekistan  2014  female   5-14 years           44     2631600   \n",
      "27819  Uzbekistan  2014  female  55-74 years           21     1438935   \n",
      "\n",
      "       suicides/100k pop    country-year  HDI for year   gdp_for_year ($)   \\\n",
      "0                   6.71     Albania1987           NaN          2156624900   \n",
      "1                   5.19     Albania1987           NaN          2156624900   \n",
      "2                   4.83     Albania1987           NaN          2156624900   \n",
      "3                   4.59     Albania1987           NaN          2156624900   \n",
      "4                   3.28     Albania1987           NaN          2156624900   \n",
      "...                  ...             ...           ...                 ...   \n",
      "27815               2.96  Uzbekistan2014         0.675         63067077179   \n",
      "27816               2.58  Uzbekistan2014         0.675         63067077179   \n",
      "27817               2.17  Uzbekistan2014         0.675         63067077179   \n",
      "27818               1.67  Uzbekistan2014         0.675         63067077179   \n",
      "27819               1.46  Uzbekistan2014         0.675         63067077179   \n",
      "\n",
      "       gdp_per_capita ($)       generation  \n",
      "0                     796     Generation X  \n",
      "1                     796           Silent  \n",
      "2                     796     Generation X  \n",
      "3                     796  G.I. Generation  \n",
      "4                     796          Boomers  \n",
      "...                   ...              ...  \n",
      "27815                2309     Generation X  \n",
      "27816                2309           Silent  \n",
      "27817                2309     Generation Z  \n",
      "27818                2309     Generation Z  \n",
      "27819                2309          Boomers  \n",
      "\n",
      "[27820 rows x 12 columns]\n"
     ]
    }
   ],
   "source": [
    "import pandas as pd\n",
    "import numpy as np\n",
    "\n",
    "#Para acceder al dataset,cambiar la url \n",
    "suicidios=pd.read_excel(\"C:/Users/almag/Documents/7mo Semestre/Minería de Datos/master.xlsx\")\n",
    "print(suicidios)"
   ]
  },
  {
   "cell_type": "markdown",
   "metadata": {},
   "source": [
    "**Información básica de cada una de las columnas:**"
   ]
  },
  {
   "cell_type": "code",
   "execution_count": 3,
   "metadata": {},
   "outputs": [
    {
     "name": "stdout",
     "output_type": "stream",
     "text": [
      "<class 'pandas.core.frame.DataFrame'>\n",
      "RangeIndex: 27820 entries, 0 to 27819\n",
      "Data columns (total 12 columns):\n",
      " #   Column              Non-Null Count  Dtype  \n",
      "---  ------              --------------  -----  \n",
      " 0   country             27820 non-null  object \n",
      " 1   year                27820 non-null  int64  \n",
      " 2   sex                 27820 non-null  object \n",
      " 3   age                 27820 non-null  object \n",
      " 4   suicides_no         27820 non-null  int64  \n",
      " 5   population          27820 non-null  int64  \n",
      " 6   suicides/100k pop   27820 non-null  float64\n",
      " 7   country-year        27820 non-null  object \n",
      " 8   HDI for year        8364 non-null   float64\n",
      " 9    gdp_for_year ($)   27820 non-null  int64  \n",
      " 10  gdp_per_capita ($)  27820 non-null  int64  \n",
      " 11  generation          27820 non-null  object \n",
      "dtypes: float64(2), int64(5), object(5)\n",
      "memory usage: 2.5+ MB\n"
     ]
    },
    {
     "data": {
      "text/plain": [
       "count            27820\n",
       "unique               6\n",
       "top       Generation X\n",
       "freq              6408\n",
       "Name: generation, dtype: object"
      ]
     },
     "execution_count": 3,
     "metadata": {},
     "output_type": "execute_result"
    }
   ],
   "source": [
    "#La información muestra: La cantidad de memoria que usa la base de datos,Cuenta de los datos, promedio, tipo de datos, frecuencia, cuartiles, entre otros.\n",
    "suicidios.info()\n",
    "suicidios['country'].describe()\n",
    "suicidios['year'].describe()\n",
    "suicidios['sex'].describe()\n",
    "suicidios['age'].describe()\n",
    "suicidios['suicides_no'].describe()\n",
    "suicidios['population'].describe()\n",
    "suicidios['suicides/100k pop'].describe()\n",
    "suicidios['country-year'].describe()\n",
    "suicidios['HDI for year'].describe()\n",
    "suicidios[' gdp_for_year ($) '].describe()\n",
    "suicidios['gdp_per_capita ($)'].describe()\n",
    "suicidios['generation'].describe()"
   ]
  },
  {
   "cell_type": "markdown",
   "metadata": {},
   "source": [
    "**Localización de los datos nulos en la base de datos:**"
   ]
  },
  {
   "cell_type": "code",
   "execution_count": 6,
   "metadata": {},
   "outputs": [
    {
     "data": {
      "text/plain": [
       "country               False\n",
       "year                  False\n",
       "sex                   False\n",
       "age                   False\n",
       "suicides_no           False\n",
       "population            False\n",
       "suicides/100k pop     False\n",
       "country-year          False\n",
       "HDI for year           True\n",
       " gdp_for_year ($)     False\n",
       "gdp_per_capita ($)    False\n",
       "generation            False\n",
       "dtype: bool"
      ]
     },
     "execution_count": 6,
     "metadata": {},
     "output_type": "execute_result"
    }
   ],
   "source": [
    "suicidios.isnull().any()\n",
    "\n",
    "#La única columna que presenta datos nulos es “HDI for year”"
   ]
  },
  {
   "cell_type": "markdown",
   "metadata": {},
   "source": [
    "**Eliminar columnas no deseadas:**"
   ]
  },
  {
   "cell_type": "code",
   "execution_count": 7,
   "metadata": {},
   "outputs": [
    {
     "name": "stdout",
     "output_type": "stream",
     "text": [
      "          country  year     sex  suicides_no  population  suicides/100k pop  \\\n",
      "0         Albania  1987    male           21      312900               6.71   \n",
      "1         Albania  1987    male           16      308000               5.19   \n",
      "2         Albania  1987  female           14      289700               4.83   \n",
      "3         Albania  1987    male            1       21800               4.59   \n",
      "4         Albania  1987    male            9      274300               3.28   \n",
      "...           ...   ...     ...          ...         ...                ...   \n",
      "27815  Uzbekistan  2014  female          107     3620833               2.96   \n",
      "27816  Uzbekistan  2014  female            9      348465               2.58   \n",
      "27817  Uzbekistan  2014    male           60     2762158               2.17   \n",
      "27818  Uzbekistan  2014  female           44     2631600               1.67   \n",
      "27819  Uzbekistan  2014  female           21     1438935               1.46   \n",
      "\n",
      "        gdp_for_year ($)        generation  \n",
      "0              2156624900     Generation X  \n",
      "1              2156624900           Silent  \n",
      "2              2156624900     Generation X  \n",
      "3              2156624900  G.I. Generation  \n",
      "4              2156624900          Boomers  \n",
      "...                   ...              ...  \n",
      "27815         63067077179     Generation X  \n",
      "27816         63067077179           Silent  \n",
      "27817         63067077179     Generation Z  \n",
      "27818         63067077179     Generation Z  \n",
      "27819         63067077179          Boomers  \n",
      "\n",
      "[27820 rows x 8 columns]\n"
     ]
    }
   ],
   "source": [
    "#Se eliminarán las columnas \"country-year\",\"HDI for year\", \"gdp_per_capita($)\" ya que la información no será relevante\n",
    "#La columna \"country-year\" es una concatenación de las primeras 2 columnas, en tal caso, nos parece irrelevante.\n",
    "#Columna \"HDI for year\" contiene muchos datos nulos sobre el indice de desarrollo humano, por lo tanto, la eliminamos.\n",
    "#Columna \"gdp_per_capita($)\", utilizaremos unicamente la información en \"gdp_for_years($)\" que es información del PIB por años\n",
    "#Columna \"age\" eliminada para modificar la información dentro \n",
    "suicidios_limpieza=suicidios.drop(['country-year','HDI for year','gdp_per_capita ($)','age'],axis = 1 )\n",
    "\n",
    "#Visualización de la base de datos sin las columnas\n",
    "print(suicidios_limpieza)\n"
   ]
  },
  {
   "cell_type": "markdown",
   "metadata": {},
   "source": [
    "**Modificación de las columnas:**"
   ]
  },
  {
   "cell_type": "code",
   "execution_count": 14,
   "metadata": {},
   "outputs": [
    {
     "name": "stdout",
     "output_type": "stream",
     "text": [
      "          country  year     sex  suicides_no     age  population  \\\n",
      "0         Albania  1987    male           21  15-24       312900   \n",
      "1         Albania  1987    male           16  35-54       308000   \n",
      "2         Albania  1987  female           14  15-24       289700   \n",
      "3         Albania  1987    male            1    75+        21800   \n",
      "4         Albania  1987    male            9  25-34       274300   \n",
      "...           ...   ...     ...          ...     ...         ...   \n",
      "27815  Uzbekistan  2014  female          107  35-54      3620833   \n",
      "27816  Uzbekistan  2014  female            9    75+       348465   \n",
      "27817  Uzbekistan  2014    male           60   5-14      2762158   \n",
      "27818  Uzbekistan  2014  female           44   5-14      2631600   \n",
      "27819  Uzbekistan  2014  female           21  55-74      1438935   \n",
      "\n",
      "       suicides/100k pop   gdp_for_year ($)        generation  \n",
      "0                   6.71          2156624900     Generation X  \n",
      "1                   5.19          2156624900           Silent  \n",
      "2                   4.83          2156624900     Generation X  \n",
      "3                   4.59          2156624900  G.I. Generation  \n",
      "4                   3.28          2156624900          Boomers  \n",
      "...                  ...                 ...              ...  \n",
      "27815               2.96         63067077179     Generation X  \n",
      "27816               2.58         63067077179           Silent  \n",
      "27817               2.17         63067077179     Generation Z  \n",
      "27818               1.67         63067077179     Generation Z  \n",
      "27819               1.46         63067077179          Boomers  \n",
      "\n",
      "[27820 rows x 9 columns]\n"
     ]
    }
   ],
   "source": [
    "#Modificación de la columna \"age\", eliminando la palabra \"years\" para evitar el repetir las palabras\n",
    "letras_eliminados=suicidios['age'].str.replace('years','')\n",
    "\n",
    "#Se agregan los datos sin la palabra \"years\"\n",
    "suicidios_limpieza.insert(4,'age',letras_eliminados)\n",
    "\n",
    "#Visualización de la base de datos mostrando la modificación\n",
    "print(suicidios_limpieza)\n"
   ]
  },
  {
   "cell_type": "markdown",
   "metadata": {},
   "source": [
    "**Cambio de Nombre:**"
   ]
  },
  {
   "cell_type": "code",
   "execution_count": 16,
   "metadata": {},
   "outputs": [
    {
     "data": {
      "text/plain": [
       "['PAIS',\n",
       " 'AÑO',\n",
       " 'SEXO',\n",
       " 'EDAD',\n",
       " 'NUM_SUICIDIOS',\n",
       " 'POBLACION',\n",
       " 'SUICIDIOS POR CADA 100K',\n",
       " 'PIB',\n",
       " 'GENERACION']"
      ]
     },
     "execution_count": 16,
     "metadata": {},
     "output_type": "execute_result"
    }
   ],
   "source": [
    "#Cambio de nombre de las columnas para mejor manipulación de datos\n",
    "suicidios_limpieza=suicidios_limpieza.set_axis(['PAIS', 'AÑO', 'SEXO','EDAD','NUM_SUICIDIOS','POBLACION','SUICIDIOS POR CADA 100K','PIB','GENERACION'], axis='columns', inplace=False)\n",
    "#Actualización del nombre de las columnas\n",
    "list(suicidios_limpieza.columns)"
   ]
  },
  {
   "cell_type": "markdown",
   "metadata": {},
   "source": [
    "**Ordenamiento de datos:**"
   ]
  },
  {
   "cell_type": "code",
   "execution_count": 17,
   "metadata": {},
   "outputs": [],
   "source": [
    " #----ORDENANDO LOS DATOS POR AÑO Y ESTOS A SU VEZ ORDENADOS POR EDAD Y SEXO  \n",
    "suicidios_limpieza=suicidios_limpieza.sort_values(by=['AÑO','EDAD','SEXO'])"
   ]
  },
  {
   "cell_type": "markdown",
   "metadata": {},
   "source": [
    "**Crear nuevo archivo con la base de datos editada:**"
   ]
  },
  {
   "cell_type": "code",
   "execution_count": 18,
   "metadata": {},
   "outputs": [
    {
     "name": "stdout",
     "output_type": "stream",
     "text": [
      "                      PAIS   AÑO    SEXO  EDAD NUM_SUICIDIOS  POBLACION  \\\n",
      "264    Antigua and Barbuda  1985  female     0        15-24        7709   \n",
      "265    Antigua and Barbuda  1985  female     0        25-34        6344   \n",
      "266    Antigua and Barbuda  1985  female     0        35-54        6173   \n",
      "267    Antigua and Barbuda  1985  female     0         5-14        7339   \n",
      "268    Antigua and Barbuda  1985  female     0        55-74        3778   \n",
      "...                    ...   ...     ...   ...           ...        ...   \n",
      "20926              Romania  2016    male   615        55-74     2068747   \n",
      "20928              Romania  2016    male   632        35-54     2945568   \n",
      "25305             Thailand  2016    male   646        25-34     4796355   \n",
      "25302             Thailand  2016    male   734        55-74     5203957   \n",
      "25303             Thailand  2016    male  1421        35-54    10084647   \n",
      "\n",
      "       SUICIDIOS POR CADA 100K           PIB       GENERACION  \n",
      "264                       0.00     240923926     Generation X  \n",
      "265                       0.00     240923926          Boomers  \n",
      "266                       0.00     240923926           Silent  \n",
      "267                       0.00     240923926     Generation X  \n",
      "268                       0.00     240923926  G.I. Generation  \n",
      "...                        ...           ...              ...  \n",
      "20926                    29.73  187805922349          Boomers  \n",
      "20928                    21.46  187805922349     Generation X  \n",
      "25305                    13.47  411755164833       Millenials  \n",
      "25302                    14.10  411755164833          Boomers  \n",
      "25303                    14.09  411755164833     Generation X  \n",
      "\n",
      "[27820 rows x 9 columns]\n"
     ]
    }
   ],
   "source": [
    "#Creación del nuevo documento modificado\n",
    "suicidios_limpieza.to_csv('suicidios-limpieza.csv', header = False, index = False)\n",
    "\n",
    "#Visualización de la base de datos sin las columnas\n",
    "print(suicidios_limpieza)"
   ]
  },
  {
   "cell_type": "markdown",
   "metadata": {},
   "source": [
    "## GameStop Historical Stock Prices\n",
    "\n",
    "https://www.kaggle.com/hananxx/gamestop-historical-stock-prices\n",
    "\n",
    "**Datos sin manipulación:**"
   ]
  },
  {
   "cell_type": "code",
   "execution_count": 7,
   "metadata": {},
   "outputs": [
    {
     "name": "stdout",
     "output_type": "stream",
     "text": [
      "            date  open_price  high_price   low_price  close_price  \\\n",
      "0     2021-01-28  265.000000  483.000000  112.250000   193.600006   \n",
      "1     2021-01-27  354.829987  380.000000  249.000000   347.510010   \n",
      "2     2021-01-26   88.559998  150.000000   80.199997   147.979996   \n",
      "3     2021-01-25   96.730003  159.179993   61.130001    76.790001   \n",
      "4     2021-01-22   42.590000   76.760002   42.320000    65.010002   \n",
      "...          ...         ...         ...         ...          ...   \n",
      "4768  2002-02-20    9.600000    9.875000    9.525000     9.875000   \n",
      "4769  2002-02-19    9.900000    9.900000    9.375000     9.550000   \n",
      "4770  2002-02-15   10.000000   10.025000    9.850000     9.950000   \n",
      "4771  2002-02-14   10.175000   10.195000    9.925000    10.000000   \n",
      "4772  2002-02-13    9.625000   10.060000    9.525000    10.050000   \n",
      "\n",
      "           volume  adjclose_price  \n",
      "0      58815800.0      193.600006  \n",
      "1      93396700.0      347.510010  \n",
      "2     178588000.0      147.979996  \n",
      "3     177874000.0       76.790001  \n",
      "4     196784300.0       65.010002  \n",
      "...           ...             ...  \n",
      "4768    1723200.0        6.648838  \n",
      "4769    1852600.0        6.430017  \n",
      "4770    2097400.0        6.699336  \n",
      "4771    2755400.0        6.733003  \n",
      "4772   19054000.0        6.766666  \n",
      "\n",
      "[4773 rows x 7 columns]\n"
     ]
    }
   ],
   "source": [
    "import pandas as pd\n",
    "import numpy as np\n",
    "\n",
    "#Para acceder al dataset,cambiar la url \n",
    "GME=pd.read_csv(\"C:/Users/almag/Documents/7mo Semestre/Minería de Datos/GME_stock.csv\")\n",
    "print(GME)"
   ]
  },
  {
   "cell_type": "markdown",
   "metadata": {},
   "source": [
    "**Información básica de cada una de las columnas:**"
   ]
  },
  {
   "cell_type": "code",
   "execution_count": 9,
   "metadata": {},
   "outputs": [
    {
     "name": "stdout",
     "output_type": "stream",
     "text": [
      "<class 'pandas.core.frame.DataFrame'>\n",
      "RangeIndex: 4773 entries, 0 to 4772\n",
      "Data columns (total 7 columns):\n",
      " #   Column          Non-Null Count  Dtype  \n",
      "---  ------          --------------  -----  \n",
      " 0   date            4773 non-null   object \n",
      " 1   open_price      4773 non-null   float64\n",
      " 2   high_price      4773 non-null   float64\n",
      " 3   low_price       4773 non-null   float64\n",
      " 4   close_price     4773 non-null   float64\n",
      " 5   volume          4773 non-null   float64\n",
      " 6   adjclose_price  4773 non-null   float64\n",
      "dtypes: float64(6), object(1)\n",
      "memory usage: 261.1+ KB\n"
     ]
    },
    {
     "data": {
      "text/plain": [
       "count    4773.000000\n",
       "mean       16.882897\n",
       "std        11.019953\n",
       "min         2.555174\n",
       "25%         9.607993\n",
       "50%        15.479172\n",
       "75%        22.205433\n",
       "max       347.510010\n",
       "Name: adjclose_price, dtype: float64"
      ]
     },
     "execution_count": 9,
     "metadata": {},
     "output_type": "execute_result"
    }
   ],
   "source": [
    "#La información muestra: La cantidad de memoria que usa la base de datos,Cuenta de los datos, promedio, tipo de datos, frecuencia, cuartiles, entre otros.\n",
    "GME.info()\n",
    "GME['date'].describe()\n",
    "GME['open_price'].describe()\n",
    "GME['high_price'].describe()\n",
    "GME['low_price'].describe()\n",
    "GME['close_price'].describe()\n",
    "GME['volume'].describe()\n",
    "GME['adjclose_price'].describe()"
   ]
  },
  {
   "cell_type": "markdown",
   "metadata": {},
   "source": [
    "**Localización de los datos nulos en la base de datos:**"
   ]
  },
  {
   "cell_type": "code",
   "execution_count": 25,
   "metadata": {},
   "outputs": [
    {
     "data": {
      "text/plain": [
       "date              False\n",
       "open_price        False\n",
       "high_price        False\n",
       "low_price         False\n",
       "close_price       False\n",
       "volume            False\n",
       "adjclose_price    False\n",
       "dtype: bool"
      ]
     },
     "execution_count": 25,
     "metadata": {},
     "output_type": "execute_result"
    }
   ],
   "source": [
    "GME.isnull().any()\n",
    "\n",
    "#Sin columnas con datos nulos"
   ]
  },
  {
   "cell_type": "markdown",
   "metadata": {},
   "source": [
    "**Eliminación de columnas no deseadas:**"
   ]
  },
  {
   "cell_type": "code",
   "execution_count": 26,
   "metadata": {},
   "outputs": [
    {
     "name": "stdout",
     "output_type": "stream",
     "text": [
      "            date  open_price  high_price   low_price  close_price       volume\n",
      "0     2021-01-28  265.000000  483.000000  112.250000   193.600006   58815800.0\n",
      "1     2021-01-27  354.829987  380.000000  249.000000   347.510010   93396700.0\n",
      "2     2021-01-26   88.559998  150.000000   80.199997   147.979996  178588000.0\n",
      "3     2021-01-25   96.730003  159.179993   61.130001    76.790001  177874000.0\n",
      "4     2021-01-22   42.590000   76.760002   42.320000    65.010002  196784300.0\n",
      "...          ...         ...         ...         ...          ...          ...\n",
      "4768  2002-02-20    9.600000    9.875000    9.525000     9.875000    1723200.0\n",
      "4769  2002-02-19    9.900000    9.900000    9.375000     9.550000    1852600.0\n",
      "4770  2002-02-15   10.000000   10.025000    9.850000     9.950000    2097400.0\n",
      "4771  2002-02-14   10.175000   10.195000    9.925000    10.000000    2755400.0\n",
      "4772  2002-02-13    9.625000   10.060000    9.525000    10.050000   19054000.0\n",
      "\n",
      "[4773 rows x 6 columns]\n"
     ]
    }
   ],
   "source": [
    "#La columna \"adjclose_price\",ya que el precio ajustado seria el mismo que el precio de cierre en ese dia\n",
    "GME_limpieza=GME.drop(['adjclose_price'],axis = 1 )\n",
    "\n",
    "#Visualización de la base de datos sin las columnas\n",
    "print(GME_limpieza)"
   ]
  },
  {
   "cell_type": "markdown",
   "metadata": {},
   "source": [
    "**Cambio de Nombre:**"
   ]
  },
  {
   "cell_type": "code",
   "execution_count": 27,
   "metadata": {},
   "outputs": [
    {
     "data": {
      "text/plain": [
       "['Fecha',\n",
       " 'Precio de apertura',\n",
       " 'Precio alto',\n",
       " 'Precio bajo',\n",
       " 'Precio de cierre',\n",
       " 'Nocional']"
      ]
     },
     "execution_count": 27,
     "metadata": {},
     "output_type": "execute_result"
    }
   ],
   "source": [
    "#Cambio de nombre de las columnas para mejor manipulación de datos\n",
    "GME_limpieza=GME_limpieza.set_axis(['Fecha', 'Precio de apertura', 'Precio alto','Precio bajo','Precio de cierre','Nocional'], axis='columns', inplace=False)\n",
    "#Actualización del nombre de las columnas\n",
    "list(GME_limpieza.columns)"
   ]
  },
  {
   "cell_type": "markdown",
   "metadata": {},
   "source": [
    "**Ordenamiento de datos:**"
   ]
  },
  {
   "cell_type": "code",
   "execution_count": 29,
   "metadata": {},
   "outputs": [
    {
     "name": "stdout",
     "output_type": "stream",
     "text": [
      "           Fecha  Precio de apertura  Precio alto  Precio bajo  \\\n",
      "4772  2002-02-13            9.625000    10.060000     9.525000   \n",
      "4771  2002-02-14           10.175000    10.195000     9.925000   \n",
      "4770  2002-02-15           10.000000    10.025000     9.850000   \n",
      "4769  2002-02-19            9.900000     9.900000     9.375000   \n",
      "4768  2002-02-20            9.600000     9.875000     9.525000   \n",
      "...          ...                 ...          ...          ...   \n",
      "4     2021-01-22           42.590000    76.760002    42.320000   \n",
      "3     2021-01-25           96.730003   159.179993    61.130001   \n",
      "2     2021-01-26           88.559998   150.000000    80.199997   \n",
      "1     2021-01-27          354.829987   380.000000   249.000000   \n",
      "0     2021-01-28          265.000000   483.000000   112.250000   \n",
      "\n",
      "      Precio de cierre     Nocional  \n",
      "4772         10.050000   19054000.0  \n",
      "4771         10.000000    2755400.0  \n",
      "4770          9.950000    2097400.0  \n",
      "4769          9.550000    1852600.0  \n",
      "4768          9.875000    1723200.0  \n",
      "...                ...          ...  \n",
      "4            65.010002  196784300.0  \n",
      "3            76.790001  177874000.0  \n",
      "2           147.979996  178588000.0  \n",
      "1           347.510010   93396700.0  \n",
      "0           193.600006   58815800.0  \n",
      "\n",
      "[4773 rows x 6 columns]\n"
     ]
    }
   ],
   "source": [
    "#ORDENANDO LOS DATOS FECHA\n",
    "GME_limpieza=GME_limpieza.sort_values(by=['Fecha'])\n",
    "\n",
    "print(GME_limpieza)"
   ]
  },
  {
   "cell_type": "markdown",
   "metadata": {},
   "source": [
    "**Crear nuevo archivo con la base de datos editada:**"
   ]
  },
  {
   "cell_type": "code",
   "execution_count": 31,
   "metadata": {},
   "outputs": [
    {
     "name": "stdout",
     "output_type": "stream",
     "text": [
      "           Fecha  Precio de apertura  Precio alto  Precio bajo  \\\n",
      "4772  2002-02-13            9.625000    10.060000     9.525000   \n",
      "4771  2002-02-14           10.175000    10.195000     9.925000   \n",
      "4770  2002-02-15           10.000000    10.025000     9.850000   \n",
      "4769  2002-02-19            9.900000     9.900000     9.375000   \n",
      "4768  2002-02-20            9.600000     9.875000     9.525000   \n",
      "...          ...                 ...          ...          ...   \n",
      "4     2021-01-22           42.590000    76.760002    42.320000   \n",
      "3     2021-01-25           96.730003   159.179993    61.130001   \n",
      "2     2021-01-26           88.559998   150.000000    80.199997   \n",
      "1     2021-01-27          354.829987   380.000000   249.000000   \n",
      "0     2021-01-28          265.000000   483.000000   112.250000   \n",
      "\n",
      "      Precio de cierre     Nocional  \n",
      "4772         10.050000   19054000.0  \n",
      "4771         10.000000    2755400.0  \n",
      "4770          9.950000    2097400.0  \n",
      "4769          9.550000    1852600.0  \n",
      "4768          9.875000    1723200.0  \n",
      "...                ...          ...  \n",
      "4            65.010002  196784300.0  \n",
      "3            76.790001  177874000.0  \n",
      "2           147.979996  178588000.0  \n",
      "1           347.510010   93396700.0  \n",
      "0           193.600006   58815800.0  \n",
      "\n",
      "[4773 rows x 6 columns]\n"
     ]
    }
   ],
   "source": [
    "#Creación del nuevo documento modificado\n",
    "GME_limpieza.to_csv('GME-limpieza.csv', header = False, index = False)\n",
    "\n",
    "#Visualización final de la base de datos \n",
    "print(GME_limpieza)"
   ]
  },
  {
   "cell_type": "markdown",
   "metadata": {},
   "source": [
    "## Movies on Netflix, Prime Video, Hulu and Disney+\n",
    "\n",
    "https://www.kaggle.com/ruchi798/movies-on-netflix-prime-video-hulu-and-disney\n",
    "\n",
    "**Datos sin manipulación:**"
   ]
  },
  {
   "cell_type": "code",
   "execution_count": 2,
   "metadata": {},
   "outputs": [
    {
     "name": "stdout",
     "output_type": "stream",
     "text": [
      "       Unnamed: 0     ID                           Title  Year  Age  IMDb  \\\n",
      "0               0      1                       Inception  2010  13+   8.8   \n",
      "1               1      2                      The Matrix  1999  18+   8.7   \n",
      "2               2      3          Avengers: Infinity War  2018  13+   8.5   \n",
      "3               3      4              Back to the Future  1985   7+   8.5   \n",
      "4               4      5  The Good, the Bad and the Ugly  1966  18+   8.8   \n",
      "...           ...    ...                             ...   ...  ...   ...   \n",
      "16739       16739  16740       The Ghosts of Buxley Hall  1980  NaN   6.2   \n",
      "16740       16740  16741                  The Poof Point  2001   7+   4.7   \n",
      "16741       16741  16742           Sharks of Lost Island  2013  NaN   5.7   \n",
      "16742       16742  16743              Man Among Cheetahs  2017  NaN   6.6   \n",
      "16743       16743  16744                In Beaver Valley  1950  NaN   NaN   \n",
      "\n",
      "      Rotten Tomatoes  Netflix  Hulu  Prime Video  Disney+  Type  \\\n",
      "0                 87%        1     0            0        0     0   \n",
      "1                 87%        1     0            0        0     0   \n",
      "2                 84%        1     0            0        0     0   \n",
      "3                 96%        1     0            0        0     0   \n",
      "4                 97%        1     0            1        0     0   \n",
      "...               ...      ...   ...          ...      ...   ...   \n",
      "16739             NaN        0     0            0        1     0   \n",
      "16740             NaN        0     0            0        1     0   \n",
      "16741             NaN        0     0            0        1     0   \n",
      "16742             NaN        0     0            0        1     0   \n",
      "16743             NaN        0     0            0        1     0   \n",
      "\n",
      "                            Directors                            Genres  \\\n",
      "0                   Christopher Nolan  Action,Adventure,Sci-Fi,Thriller   \n",
      "1      Lana Wachowski,Lilly Wachowski                     Action,Sci-Fi   \n",
      "2             Anthony Russo,Joe Russo           Action,Adventure,Sci-Fi   \n",
      "3                     Robert Zemeckis           Adventure,Comedy,Sci-Fi   \n",
      "4                        Sergio Leone                           Western   \n",
      "...                               ...                               ...   \n",
      "16739                    Bruce Bilson      Comedy,Family,Fantasy,Horror   \n",
      "16740                     Neal Israel              Comedy,Family,Sci-Fi   \n",
      "16741                    Neil Gelinas                       Documentary   \n",
      "16742            Richard Slater-Jones                       Documentary   \n",
      "16743                     James Algar          Documentary,Short,Family   \n",
      "\n",
      "                            Country                 Language  Runtime  \n",
      "0      United States,United Kingdom  English,Japanese,French    148.0  \n",
      "1                     United States                  English    136.0  \n",
      "2                     United States                  English    149.0  \n",
      "3                     United States                  English    116.0  \n",
      "4          Italy,Spain,West Germany                  Italian    161.0  \n",
      "...                             ...                      ...      ...  \n",
      "16739                 United States                  English    120.0  \n",
      "16740                 United States                  English     90.0  \n",
      "16741                 United States                  English      NaN  \n",
      "16742                 United States                  English      NaN  \n",
      "16743                 United States                  English     32.0  \n",
      "\n",
      "[16744 rows x 17 columns]\n"
     ]
    }
   ],
   "source": [
    "import pandas as pd\n",
    "import numpy as np\n",
    "\n",
    "#Para acceder al dataset,cambiar la url \n",
    "MoviesP=pd.read_csv(\"C:/Users/almag/Documents/7mo Semestre/Minería de Datos/MoviesOnStreamingPlatforms.csv\")\n",
    "print(MoviesP)"
   ]
  },
  {
   "cell_type": "markdown",
   "metadata": {},
   "source": [
    "**Información básica de cada una de las columnas:**"
   ]
  },
  {
   "cell_type": "code",
   "execution_count": 3,
   "metadata": {},
   "outputs": [
    {
     "name": "stdout",
     "output_type": "stream",
     "text": [
      "<class 'pandas.core.frame.DataFrame'>\n",
      "RangeIndex: 16744 entries, 0 to 16743\n",
      "Data columns (total 17 columns):\n",
      " #   Column           Non-Null Count  Dtype  \n",
      "---  ------           --------------  -----  \n",
      " 0   Unnamed: 0       16744 non-null  int64  \n",
      " 1   ID               16744 non-null  int64  \n",
      " 2   Title            16744 non-null  object \n",
      " 3   Year             16744 non-null  int64  \n",
      " 4   Age              7354 non-null   object \n",
      " 5   IMDb             16173 non-null  float64\n",
      " 6   Rotten Tomatoes  5158 non-null   object \n",
      " 7   Netflix          16744 non-null  int64  \n",
      " 8   Hulu             16744 non-null  int64  \n",
      " 9   Prime Video      16744 non-null  int64  \n",
      " 10  Disney+          16744 non-null  int64  \n",
      " 11  Type             16744 non-null  int64  \n",
      " 12  Directors        16018 non-null  object \n",
      " 13  Genres           16469 non-null  object \n",
      " 14  Country          16309 non-null  object \n",
      " 15  Language         16145 non-null  object \n",
      " 16  Runtime          16152 non-null  float64\n",
      "dtypes: float64(2), int64(8), object(7)\n",
      "memory usage: 2.2+ MB\n"
     ]
    },
    {
     "data": {
      "text/plain": [
       "count    16152.000000\n",
       "mean        93.413447\n",
       "std         28.219222\n",
       "min          1.000000\n",
       "25%         82.000000\n",
       "50%         92.000000\n",
       "75%        104.000000\n",
       "max       1256.000000\n",
       "Name: Runtime, dtype: float64"
      ]
     },
     "execution_count": 3,
     "metadata": {},
     "output_type": "execute_result"
    }
   ],
   "source": [
    "#La información muestra: La cantidad de memoria que usa la base de datos,Cuenta de los datos, promedio, tipo de datos, frecuencia, cuartiles, entre otros.\n",
    "MoviesP.info()\n",
    "MoviesP['Unnamed: 0'].describe()\n",
    "MoviesP['ID'].describe()\n",
    "MoviesP['Title'].describe()\n",
    "MoviesP['Year'].describe()\n",
    "MoviesP['Age'].describe()\n",
    "MoviesP['IMDb'].describe()\n",
    "MoviesP['Rotten Tomatoes'].describe()\n",
    "MoviesP['Netflix'].describe()\n",
    "MoviesP['Hulu'].describe()\n",
    "MoviesP['Prime Video'].describe()\n",
    "MoviesP['Disney+'].describe()\n",
    "MoviesP['Type'].describe()\n",
    "MoviesP['Directors'].describe()\n",
    "MoviesP['Genres'].describe()\n",
    "MoviesP['Country'].describe()\n",
    "MoviesP['Language'].describe()\n",
    "MoviesP['Runtime'].describe()"
   ]
  },
  {
   "cell_type": "markdown",
   "metadata": {},
   "source": [
    "**Localización de los datos nulos en la base de datos:**"
   ]
  },
  {
   "cell_type": "code",
   "execution_count": 4,
   "metadata": {},
   "outputs": [
    {
     "data": {
      "text/plain": [
       "Unnamed: 0         False\n",
       "ID                 False\n",
       "Title              False\n",
       "Year               False\n",
       "Age                 True\n",
       "IMDb                True\n",
       "Rotten Tomatoes     True\n",
       "Netflix            False\n",
       "Hulu               False\n",
       "Prime Video        False\n",
       "Disney+            False\n",
       "Type               False\n",
       "Directors           True\n",
       "Genres              True\n",
       "Country             True\n",
       "Language            True\n",
       "Runtime             True\n",
       "dtype: bool"
      ]
     },
     "execution_count": 4,
     "metadata": {},
     "output_type": "execute_result"
    }
   ],
   "source": [
    "MoviesP.isnull().any()\n",
    "\n",
    "#Se encontró datos nulos en Age,IMDb,Rotten Tomatoes,Directors,Genres,Country,Language,Runtime"
   ]
  },
  {
   "cell_type": "markdown",
   "metadata": {},
   "source": [
    "**Eliminar columnas no deseadas:**"
   ]
  },
  {
   "cell_type": "code",
   "execution_count": 19,
   "metadata": {},
   "outputs": [
    {
     "name": "stdout",
     "output_type": "stream",
     "text": [
      "                                Title  Year  Age  IMDb Rotten Tomatoes  \\\n",
      "0                           Inception  2010  13+   8.8             87%   \n",
      "1                          The Matrix  1999  18+   8.7             87%   \n",
      "2              Avengers: Infinity War  2018  13+   8.5             84%   \n",
      "3                  Back to the Future  1985   7+   8.5             96%   \n",
      "4      The Good, the Bad and the Ugly  1966  18+   8.8             97%   \n",
      "...                               ...   ...  ...   ...             ...   \n",
      "16739       The Ghosts of Buxley Hall  1980  NaN   6.2             NaN   \n",
      "16740                  The Poof Point  2001   7+   4.7             NaN   \n",
      "16741           Sharks of Lost Island  2013  NaN   5.7             NaN   \n",
      "16742              Man Among Cheetahs  2017  NaN   6.6             NaN   \n",
      "16743                In Beaver Valley  1950  NaN   NaN             NaN   \n",
      "\n",
      "       Netflix  Hulu  Prime Video  Disney+                       Directors  \\\n",
      "0            1     0            0        0               Christopher Nolan   \n",
      "1            1     0            0        0  Lana Wachowski,Lilly Wachowski   \n",
      "2            1     0            0        0         Anthony Russo,Joe Russo   \n",
      "3            1     0            0        0                 Robert Zemeckis   \n",
      "4            1     0            1        0                    Sergio Leone   \n",
      "...        ...   ...          ...      ...                             ...   \n",
      "16739        0     0            0        1                    Bruce Bilson   \n",
      "16740        0     0            0        1                     Neal Israel   \n",
      "16741        0     0            0        1                    Neil Gelinas   \n",
      "16742        0     0            0        1            Richard Slater-Jones   \n",
      "16743        0     0            0        1                     James Algar   \n",
      "\n",
      "                                 Genres                       Country  \\\n",
      "0      Action,Adventure,Sci-Fi,Thriller  United States,United Kingdom   \n",
      "1                         Action,Sci-Fi                 United States   \n",
      "2               Action,Adventure,Sci-Fi                 United States   \n",
      "3               Adventure,Comedy,Sci-Fi                 United States   \n",
      "4                               Western      Italy,Spain,West Germany   \n",
      "...                                 ...                           ...   \n",
      "16739      Comedy,Family,Fantasy,Horror                 United States   \n",
      "16740              Comedy,Family,Sci-Fi                 United States   \n",
      "16741                       Documentary                 United States   \n",
      "16742                       Documentary                 United States   \n",
      "16743          Documentary,Short,Family                 United States   \n",
      "\n",
      "                      Language  Runtime  \n",
      "0      English,Japanese,French    148.0  \n",
      "1                      English    136.0  \n",
      "2                      English    149.0  \n",
      "3                      English    116.0  \n",
      "4                      Italian    161.0  \n",
      "...                        ...      ...  \n",
      "16739                  English    120.0  \n",
      "16740                  English     90.0  \n",
      "16741                  English      NaN  \n",
      "16742                  English      NaN  \n",
      "16743                  English     32.0  \n",
      "\n",
      "[16744 rows x 14 columns]\n"
     ]
    }
   ],
   "source": [
    "#Eliminando columnas \"Unnamed: 0\" ,\"ID\" ,\"Type\" ya que incluye información irrelevante \n",
    "#Unnamed:0 es una columna enumerando a las entradas de información\n",
    "#En la columna ID encontramos un número de identificación para la pelicula\n",
    "#Columna Type tiene puros valores en 0\n",
    "MoviesP_limpieza=MoviesP.drop(['Unnamed: 0','ID',\"Type\"],axis = 1 )\n",
    "\n",
    "#Visualización de la base de datos sin las columnas\n",
    "print(MoviesP_limpieza)"
   ]
  },
  {
   "cell_type": "markdown",
   "metadata": {},
   "source": [
    "**Modificación de las columnas:**"
   ]
  },
  {
   "cell_type": "code",
   "execution_count": 20,
   "metadata": {},
   "outputs": [
    {
     "name": "stdout",
     "output_type": "stream",
     "text": [
      "                               TITULO   AÑO CLASIFICACION POR EDAD  \\\n",
      "0                           Inception  2010                    13+   \n",
      "1                          The Matrix  1999                    18+   \n",
      "2              Avengers: Infinity War  2018                    13+   \n",
      "3                  Back to the Future  1985                     7+   \n",
      "4      The Good, the Bad and the Ugly  1966                    18+   \n",
      "...                               ...   ...                    ...   \n",
      "16739       The Ghosts of Buxley Hall  1980                    NaN   \n",
      "16740                  The Poof Point  2001                     7+   \n",
      "16741           Sharks of Lost Island  2013                    NaN   \n",
      "16742              Man Among Cheetahs  2017                    NaN   \n",
      "16743                In Beaver Valley  1950                    NaN   \n",
      "\n",
      "       CALIFICACION ROTTEN TOMATOES  NETFLIX  HULU  PRIME VIDEO  DISNEY+  \\\n",
      "0               8.8             87%        1     0            0        0   \n",
      "1               8.7             87%        1     0            0        0   \n",
      "2               8.5             84%        1     0            0        0   \n",
      "3               8.5             96%        1     0            0        0   \n",
      "4               8.8             97%        1     0            1        0   \n",
      "...             ...             ...      ...   ...          ...      ...   \n",
      "16739           6.2             NaN        0     0            0        1   \n",
      "16740           4.7             NaN        0     0            0        1   \n",
      "16741           5.7             NaN        0     0            0        1   \n",
      "16742           6.6             NaN        0     0            0        1   \n",
      "16743           NaN             NaN        0     0            0        1   \n",
      "\n",
      "                             DIRECTOR                            GENERO  \\\n",
      "0                   Christopher Nolan  Action,Adventure,Sci-Fi,Thriller   \n",
      "1      Lana Wachowski,Lilly Wachowski                     Action,Sci-Fi   \n",
      "2             Anthony Russo,Joe Russo           Action,Adventure,Sci-Fi   \n",
      "3                     Robert Zemeckis           Adventure,Comedy,Sci-Fi   \n",
      "4                        Sergio Leone                           Western   \n",
      "...                               ...                               ...   \n",
      "16739                    Bruce Bilson      Comedy,Family,Fantasy,Horror   \n",
      "16740                     Neal Israel              Comedy,Family,Sci-Fi   \n",
      "16741                    Neil Gelinas                       Documentary   \n",
      "16742            Richard Slater-Jones                       Documentary   \n",
      "16743                     James Algar          Documentary,Short,Family   \n",
      "\n",
      "                               PAIS                   IDIOMA  DURACION  \n",
      "0      United States,United Kingdom  English,Japanese,French     148.0  \n",
      "1                     United States                  English     136.0  \n",
      "2                     United States                  English     149.0  \n",
      "3                     United States                  English     116.0  \n",
      "4          Italy,Spain,West Germany                  Italian     161.0  \n",
      "...                             ...                      ...       ...  \n",
      "16739                 United States                  English     120.0  \n",
      "16740                 United States                  English      90.0  \n",
      "16741                 United States                  English       NaN  \n",
      "16742                 United States                  English       NaN  \n",
      "16743                 United States                  English      32.0  \n",
      "\n",
      "[16744 rows x 14 columns]\n"
     ]
    }
   ],
   "source": [
    "#cambiando nombres de columnas\n",
    "MoviesP_limpieza=MoviesP_limpieza.set_axis(['TITULO', 'AÑO', 'CLASIFICACION POR EDAD','CALIFICACION','ROTTEN TOMATOES','NETFLIX','HULU','PRIME VIDEO','DISNEY+','DIRECTOR','GENERO','PAIS','IDIOMA','DURACION'], axis='columns', inplace=False)\n",
    "\n",
    "print(MoviesP_limpieza)"
   ]
  },
  {
   "cell_type": "markdown",
   "metadata": {},
   "source": [
    "**Ordenamiento de datos:**"
   ]
  },
  {
   "cell_type": "code",
   "execution_count": 21,
   "metadata": {},
   "outputs": [
    {
     "name": "stdout",
     "output_type": "stream",
     "text": [
      "                                       TITULO   AÑO CLASIFICACION POR EDAD  \\\n",
      "4467                       A Trip to the Moon  1902                    all   \n",
      "8795             From the Manger to the Cross  1912                     7+   \n",
      "9917                    Fatty Joins the Force  1913                    NaN   \n",
      "10170                         The Speed Kings  1913                    NaN   \n",
      "6257                         A Fool There Was  1915                    NaN   \n",
      "...                                       ...   ...                    ...   \n",
      "3463              Har Kisse Ke Hisse Kaamyaab  2020                     7+   \n",
      "2795   Captain Underpants: Epic Choice-o-rama  2020                    NaN   \n",
      "2110            Tom Papa: You're Doing Great!  2020                    NaN   \n",
      "1739               The Stand at Paxton County  2020                    NaN   \n",
      "3417                               John Henry  2020                    18+   \n",
      "\n",
      "       CALIFICACION ROTTEN TOMATOES  NETFLIX  HULU  PRIME VIDEO  DISNEY+  \\\n",
      "4467            8.2            100%        0     0            1        0   \n",
      "8795            5.7             NaN        0     0            1        0   \n",
      "9917            5.3             NaN        0     0            1        0   \n",
      "10170           5.0             NaN        0     0            1        0   \n",
      "6257            5.8             80%        0     0            1        0   \n",
      "...             ...             ...      ...   ...          ...      ...   \n",
      "3463            NaN             NaN        1     0            0        0   \n",
      "2795            6.3             NaN        1     0            0        0   \n",
      "2110            7.1             NaN        1     0            0        0   \n",
      "1739            6.4             NaN        1     0            0        0   \n",
      "3417            3.5             NaN        1     0            0        0   \n",
      "\n",
      "             DIRECTOR                                        GENERO  \\\n",
      "4467   Georges Méliès  Short,Action,Adventure,Comedy,Fantasy,Sci-Fi   \n",
      "8795    Sidney Olcott                               Biography,Drama   \n",
      "9917   George Nichols                                  Comedy,Short   \n",
      "10170   Wilfred Lucas                           Short,Action,Comedy   \n",
      "6257     Frank Powell                                         Drama   \n",
      "...               ...                                           ...   \n",
      "3463     Hardik Mehta                                         Drama   \n",
      "2795              NaN       Animation,Short,Action,Adventure,Comedy   \n",
      "2110   Gregory Jacobs                                        Comedy   \n",
      "1739    Brett Hedlund                                      Thriller   \n",
      "3417      Will Forbes                                Drama,Thriller   \n",
      "\n",
      "                PAIS       IDIOMA  DURACION  \n",
      "4467          France  None,French      13.0  \n",
      "8795   United States      English      60.0  \n",
      "9917   United States      English      12.0  \n",
      "10170  United States      English       8.0  \n",
      "6257   United States      English      67.0  \n",
      "...              ...          ...       ...  \n",
      "3463           India        Hindi     109.0  \n",
      "2795   United States      English       NaN  \n",
      "2110   United States      English      60.0  \n",
      "1739   United States      English       NaN  \n",
      "3417   United States      English      91.0  \n",
      "\n",
      "[16744 rows x 14 columns]\n"
     ]
    }
   ],
   "source": [
    "#ordenando la base de datos por año\n",
    "MoviesP_limpieza=MoviesP_limpieza.sort_values(by=['AÑO'])\n",
    "\n",
    "print(MoviesP_limpieza)"
   ]
  },
  {
   "cell_type": "markdown",
   "metadata": {},
   "source": [
    "**Reemplazo de datos:**"
   ]
  },
  {
   "cell_type": "code",
   "execution_count": 22,
   "metadata": {},
   "outputs": [
    {
     "data": {
      "text/plain": [
       "TITULO                    False\n",
       "AÑO                       False\n",
       "CLASIFICACION POR EDAD    False\n",
       "CALIFICACION              False\n",
       "ROTTEN TOMATOES           False\n",
       "NETFLIX                   False\n",
       "HULU                      False\n",
       "PRIME VIDEO               False\n",
       "DISNEY+                   False\n",
       "DIRECTOR                  False\n",
       "GENERO                    False\n",
       "PAIS                      False\n",
       "IDIOMA                    False\n",
       "DURACION                  False\n",
       "dtype: bool"
      ]
     },
     "execution_count": 22,
     "metadata": {},
     "output_type": "execute_result"
    }
   ],
   "source": [
    "#Se reemplaza los valores nulos con \"none\"\n",
    "MoviesP_limpieza = MoviesP_limpieza.fillna('none')\n",
    "\n",
    "#Comprobación del cambio de datos nulos\n",
    "MoviesP_limpieza.isnull().any()"
   ]
  },
  {
   "cell_type": "markdown",
   "metadata": {},
   "source": [
    "**Creación de archivo modificado:**"
   ]
  },
  {
   "cell_type": "code",
   "execution_count": 23,
   "metadata": {},
   "outputs": [
    {
     "name": "stdout",
     "output_type": "stream",
     "text": [
      "                                       TITULO   AÑO CLASIFICACION POR EDAD  \\\n",
      "4467                       A Trip to the Moon  1902                    all   \n",
      "8795             From the Manger to the Cross  1912                     7+   \n",
      "9917                    Fatty Joins the Force  1913                   none   \n",
      "10170                         The Speed Kings  1913                   none   \n",
      "6257                         A Fool There Was  1915                   none   \n",
      "...                                       ...   ...                    ...   \n",
      "3463              Har Kisse Ke Hisse Kaamyaab  2020                     7+   \n",
      "2795   Captain Underpants: Epic Choice-o-rama  2020                   none   \n",
      "2110            Tom Papa: You're Doing Great!  2020                   none   \n",
      "1739               The Stand at Paxton County  2020                   none   \n",
      "3417                               John Henry  2020                    18+   \n",
      "\n",
      "      CALIFICACION ROTTEN TOMATOES  NETFLIX  HULU  PRIME VIDEO  DISNEY+  \\\n",
      "4467           8.2            100%        0     0            1        0   \n",
      "8795           5.7            none        0     0            1        0   \n",
      "9917           5.3            none        0     0            1        0   \n",
      "10170            5            none        0     0            1        0   \n",
      "6257           5.8             80%        0     0            1        0   \n",
      "...            ...             ...      ...   ...          ...      ...   \n",
      "3463          none            none        1     0            0        0   \n",
      "2795           6.3            none        1     0            0        0   \n",
      "2110           7.1            none        1     0            0        0   \n",
      "1739           6.4            none        1     0            0        0   \n",
      "3417           3.5            none        1     0            0        0   \n",
      "\n",
      "             DIRECTOR                                        GENERO  \\\n",
      "4467   Georges Méliès  Short,Action,Adventure,Comedy,Fantasy,Sci-Fi   \n",
      "8795    Sidney Olcott                               Biography,Drama   \n",
      "9917   George Nichols                                  Comedy,Short   \n",
      "10170   Wilfred Lucas                           Short,Action,Comedy   \n",
      "6257     Frank Powell                                         Drama   \n",
      "...               ...                                           ...   \n",
      "3463     Hardik Mehta                                         Drama   \n",
      "2795             none       Animation,Short,Action,Adventure,Comedy   \n",
      "2110   Gregory Jacobs                                        Comedy   \n",
      "1739    Brett Hedlund                                      Thriller   \n",
      "3417      Will Forbes                                Drama,Thriller   \n",
      "\n",
      "                PAIS       IDIOMA DURACION  \n",
      "4467          France  None,French       13  \n",
      "8795   United States      English       60  \n",
      "9917   United States      English       12  \n",
      "10170  United States      English        8  \n",
      "6257   United States      English       67  \n",
      "...              ...          ...      ...  \n",
      "3463           India        Hindi      109  \n",
      "2795   United States      English     none  \n",
      "2110   United States      English       60  \n",
      "1739   United States      English     none  \n",
      "3417   United States      English       91  \n",
      "\n",
      "[16744 rows x 14 columns]\n"
     ]
    }
   ],
   "source": [
    "#Creando archivo nuevo modificado\n",
    "MoviesP_limpieza.to_csv('MoviesP_limpieza.csv', header = False, index = False)\n",
    "\n",
    "#Impresión final de la base de datos\n",
    "print(MoviesP_limpieza)"
   ]
  },
  {
   "cell_type": "markdown",
   "metadata": {},
   "source": [
    "## EXTRA\n",
    "###### Comandos extras utilizados\n",
    "Gracias a que en la programación existen tantas comandos y librerías, no es difícil encontrar una como Pandas. Pandas es una biblioteca de software escrita como extensión de NumPy para manipulación y análisis de datos para el lenguaje de programación Python que nos ofrece herramientas que nos permiten manejar con mayor facilidad los datos con los que se requiere trabajar, dejando a disponibilidad comandos con los que podremos analizar los comportamientos que se tiene, poder realizar predicciones en base a los datos, nos ayuda a visualizar mejor si algunos datos son o no útiles, entre otras opciones que nos podrán ayudar dependiendo de lo que necesitemos\n",
    "\n",
    "- **info:** Este comando imprime información sobre un DataFrame, incluido el tipo de índice y las columnas, los valores no nulos y el uso de la memoria, básicamente nos da los detalles sobre este DataFrame, de esta manera tendremos como una previa hacia los datos que se estarán tratando, esto puede llegar a servir a manera de filtro para saber si hay algo que está erróneo o si hay algo con lo que no queramos trabajar.\n",
    "\n",
    "- **describe:** Genera estadísticas descriptivas, estas incluyen aquellas que resumen la tendencia central, la dispersión y la forma de la distribución de un conjunto de datos, excluyendo los valores de NaN. Analiza series numéricas y de objetos, así como conjuntos de columnas DataFrame de tipos de datos mixtos. La salida variará según lo que se proporcione. \n",
    "\n",
    "- **sort axis:** Ordenar objeto por etiquetas (a lo largo de un eje), habrá ocasiones en las que necesitaremos ordenar el objeto, esto nos puede dar una mejor perspectiva de lo que se está trabajando. \n",
    "\n",
    "- **sort values:** Ordene por los valores a lo largo de cada eje, dependiendo con los datos que estemos manejando esto nos podrá ayudar para tener mejor visualización de los datos.\n",
    "\n",
    "- **to_csv:** Escribe el objeto en un archivo de valores separados por comas (csv), si por algún motivo necesitamos cambiar un objeto a este tipo de extensión. \n"
   ]
  },
  {
   "cell_type": "markdown",
   "metadata": {},
   "source": [
    "#### INVESTIGACIÓN DE COMANDOS\n",
    "##### df.astype()\n",
    "Es una función de Pandas que cambia el tipo de datos de los objetos a un tipo de datos especificado.\n",
    "\n",
    "    Forma: DataFrame.astype(dtype, copy=True, errors='raise')\n",
    "\n",
    "Parámetros\n",
    "- **Dtype:** Tipo de datos que queremos asignar a nuestro objeto.\n",
    "- **Copy:** Un parámetro booleano. Devuelve una copia cuando True.\n",
    "- **Errors:** Controla el lanzamiento de excepciones sobre datos no válidos para el tipo de datos proporcionado.\n",
    "\n",
    "    Tiene dos opciones.\n",
    "    - Raise: permite que se levanten las excepciones.\n",
    "    - Ignore: suprime las excepciones. Si existe un error, entonces devuelve el objeto original.\n",
    "\n",
    "##### df.dropna()\n",
    "Es una función de Pandas que elimina los valores nulos (valores perdidos) del DataFrame dejando caer las filas o columnas que contienen los valores nulos.\n",
    "    \n",
    "En donde: **NaN** (no un número) y **NaT** (no un tiempo) representan los valores nulos. DataFrame.dropna() detecta estos valores y filtra el DataFrame en consecuencia.\n",
    "    \n",
    "    Forma:DataFrame.dropna(axis, how, thresh, subset, inplace)\n",
    "\n",
    "Parámetros\n",
    "- **Axis:** Determina que el eje sea de fila o de columna.\n",
    "Si es 0 o “índice”, entonces deja caer las filas que contienen valores perdidos.\n",
    "Si es 1 o columns, entonces deja caer las columnas que contienen los valores perdidos. Por defecto, su valor es 0.\n",
    "- **How:** Este parámetro determina la forma en que la función deja caer las filas o columnas. Sólo acepta dos cadenas de caracteres, ya sea any o all. Por defecto, se establece como any.\n",
    "    - any: deja caer la fila o columna si hay algún valor nulo en ella.\n",
    "    - all: deja caer la fila o columna si faltan todos los valores en ella.\n",
    "\n",
    "- **Thresh:** Es un número entero que especifica el menor número de valores que no falten que impiden que las filas o columnas caigan.\n",
    "- **Subset:** Es una matriz que tiene los nombres de las filas o columnas para especificar el procedimiento de caída.\n",
    "\n",
    "- **Inplace:** Es un valor booleano que cambia la llamada DataFrame si se establece como True. Por defecto, su valor es False.\n"
   ]
  }
 ],
 "metadata": {
  "kernelspec": {
   "display_name": "Python 3",
   "language": "python",
   "name": "python3"
  },
  "language_info": {
   "codemirror_mode": {
    "name": "ipython",
    "version": 3
   },
   "file_extension": ".py",
   "mimetype": "text/x-python",
   "name": "python",
   "nbconvert_exporter": "python",
   "pygments_lexer": "ipython3",
   "version": "3.8.5"
  }
 },
 "nbformat": 4,
 "nbformat_minor": 4
}
