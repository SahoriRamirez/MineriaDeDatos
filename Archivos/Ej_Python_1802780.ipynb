{
 "cells": [
  {
   "cell_type": "markdown",
   "metadata": {},
   "source": [
    "# Ejercicios Básicos Python\n",
    "### Ejercicio 1\n",
    "Realiza una variable con tu matricula y realiza una secuencia de imprimir con tu nombre y tu matricula concatenados."
   ]
  },
  {
   "cell_type": "code",
   "execution_count": 16,
   "metadata": {},
   "outputs": [
    {
     "name": "stdout",
     "output_type": "stream",
     "text": [
      "1802780 Sahori Ramirez\n"
     ]
    }
   ],
   "source": [
    "mat= 1802780\n",
    "nom= \"Sahori Ramirez\"\n",
    "\n",
    "print(mat,nom)\n"
   ]
  },
  {
   "cell_type": "code",
   "execution_count": 17,
   "metadata": {},
   "outputs": [
    {
     "name": "stdout",
     "output_type": "stream",
     "text": [
      "1802780 Sahori Ramirez\n"
     ]
    }
   ],
   "source": [
    "mat= 1802780\n",
    "\n",
    "print(mat,\"Sahori Ramirez\")"
   ]
  },
  {
   "cell_type": "markdown",
   "metadata": {},
   "source": [
    "### Ejercicio 2\n",
    "Pidiendo el input del usuario pide dos números y crea una pequeña calculadora con los operadores básicos de suma, resta, multiplicación, división, y exponente."
   ]
  },
  {
   "cell_type": "code",
   "execution_count": 65,
   "metadata": {},
   "outputs": [
    {
     "name": "stdout",
     "output_type": "stream",
     "text": [
      "Introduce un número:15\n",
      "Introduce otro número: 5\n",
      "\n",
      " Suma:  20\n",
      "Resta:  10\n",
      "Multiplicación:  75\n",
      "División:  3.0\n",
      "Exponencial:  759375\n"
     ]
    }
   ],
   "source": [
    "x = int(input(\"Introduce un número:\" ))\n",
    "y = int(input(\"Introduce otro número: \"))\n",
    "\n",
    "print (\"\\n Suma: \", x+y)\n",
    "print(\"Resta: \", x-y)\n",
    "print (\"Multiplicación: \", x*y)\n",
    "print(\"División: \", x/y)\n",
    "print (\"Exponencial: \", x**y)\n"
   ]
  },
  {
   "cell_type": "code",
   "execution_count": 111,
   "metadata": {},
   "outputs": [
    {
     "name": "stdout",
     "output_type": "stream",
     "text": [
      "Introduce una opción a realizar: \n",
      " 1.Suma \n",
      " 2.Resta \n",
      " 3.Multiplicación \n",
      " 4.Divisón \n",
      " 5.Exponencial \n",
      "5\n",
      "Introduce un número:2\n",
      "Introduce otro número: 3\n",
      "\n",
      " Exponencial: 2 ^ 3 =  8\n"
     ]
    }
   ],
   "source": [
    "z = 0\n",
    "while z < 1 or z > 5:\n",
    "    z = int(input(\"Introduce una opción a realizar: \\n 1.Suma \\n 2.Resta \\n 3.Multiplicación \\n 4.Divisón \\n 5.Exponencial \\n\"))\n",
    "    \n",
    "x = int(input(\"Introduce un número:\" ))\n",
    "y = int(input(\"Introduce otro número: \"))\n",
    "\n",
    "if z==1:\n",
    "    print(\"\\n Suma: %d + %d = \"%(x,y), x+y)\n",
    "elif z==2:\n",
    "    print(\"\\n Resta: %d - %d = \"%(x,y),x-y)\n",
    "elif z==3:\n",
    "    print(\"\\n Multiplicación: %d * %d = \"%(x,y),x*y)\n",
    "elif z==4:\n",
    "    print(\"\\n División: %d / %d = \"%(x,y),x/y)\n",
    "elif z==5:\n",
    "    print(\"\\n Exponencial: %d ^ %d = \"%(x,y),x**y)"
   ]
  },
  {
   "cell_type": "markdown",
   "metadata": {},
   "source": [
    "### Ejercicio 3\n",
    "Con loop while o for, realiza una lista de 10 numeros multiplos de 3, y después realiza una función de loop que sume todos los números dentro del arreglo."
   ]
  },
  {
   "cell_type": "code",
   "execution_count": 69,
   "metadata": {},
   "outputs": [
    {
     "name": "stdout",
     "output_type": "stream",
     "text": [
      "Lista con multiplos de 3: [9, 12, 15, 18, 21, 24, 27, 30, 33, 36]\n",
      "\n",
      "La suma de la lista es: 225\n"
     ]
    }
   ],
   "source": [
    "Lista=[]\n",
    "for i in range(9,39,3):\n",
    "    Lista.append(i)\n",
    "    \n",
    "print(\"Lista con multiplos de 3:\", Lista)\n",
    "j=0\n",
    "k=0\n",
    "while j<10:\n",
    "    k = Lista[j] +k\n",
    "    j+=1\n",
    "print(\"\\nLa suma de la lista es:\", k)"
   ]
  },
  {
   "cell_type": "markdown",
   "metadata": {},
   "source": [
    "### Ejercicio 4\n",
    "- Con una función de if else, revisar si un número es par o es impar.\n",
    "- Con una función de if else, revisar si un número es primo o no."
   ]
  },
  {
   "cell_type": "code",
   "execution_count": 28,
   "metadata": {},
   "outputs": [
    {
     "name": "stdout",
     "output_type": "stream",
     "text": [
      "Introduce un número entero:8\n",
      "El 8 es un número par\n",
      "El 8 no es número primo\n"
     ]
    },
    {
     "data": {
      "text/plain": [
       "8"
      ]
     },
     "execution_count": 28,
     "metadata": {},
     "output_type": "execute_result"
    }
   ],
   "source": [
    "def primo(a):\n",
    "    for i in range(2,a):\n",
    "        if a%i==0:\n",
    "            print(\"El %d no es número primo\"%a)\n",
    "            return a\n",
    "    print(\"El %d es número primo\"%a)\n",
    "    return a\n",
    "    \n",
    "k = int(input(\"Introduce un número entero:\" ))\n",
    "if k%2==0:\n",
    "    print(\"El %d es un número par\"%k)\n",
    "else:\n",
    "    print(\"El %d es un número impar\"%k)\n",
    "\n",
    "primo(k)"
   ]
  },
  {
   "cell_type": "markdown",
   "metadata": {},
   "source": [
    "### Ejercicio 5\n",
    "Utilizando diferentes clases en python, crea una calculadora con los operadores básicos de suma, resta, multiplicación, división, y exponente."
   ]
  },
  {
   "cell_type": "code",
   "execution_count": 33,
   "metadata": {},
   "outputs": [
    {
     "name": "stdout",
     "output_type": "stream",
     "text": [
      "La suma es: 210\n",
      "La resta es: -8\n",
      "La multiplicación es: 11009\n",
      "La división es: 0.926605504587156\n",
      "El exponencial es: 295821505059131219731020512194984310551011903949219619393840479461440249757110288710624994223213215322143121819433189193066679985038164209824091843310853067882594890314365745346841128125258709563752449817803245092870901\n"
     ]
    }
   ],
   "source": [
    "def suma(s,k):\n",
    "    j=s+k\n",
    "    return j\n",
    "def resta(x,y):\n",
    "    m=x-y\n",
    "    return m\n",
    "def mult(f,l):\n",
    "    d=f*l\n",
    "    return d\n",
    "def div(t,v):\n",
    "    u=t/v\n",
    "    return u\n",
    "def exp(r,e):\n",
    "    a=r**e\n",
    "    return a\n",
    "\n",
    "print(\"La suma es:\",suma(101,109))\n",
    "print(\"La resta es:\",resta(101,109))\n",
    "print(\"La multiplicación es:\",mult(101,109))\n",
    "print(\"La división es:\",div(101,109))\n",
    "print(\"El exponencial es:\",exp(101,109))"
   ]
  },
  {
   "cell_type": "markdown",
   "metadata": {},
   "source": [
    "## Ejercicios con estructuras básicas de python."
   ]
  },
  {
   "cell_type": "markdown",
   "metadata": {},
   "source": [
    "### Tuplas\n",
    "- Crear una variable flotante, integer, boleana y compleja e imprimir el tipo de variable que es.\n",
    "- Crear una tupla con valores enteros imprimir el primer y ultimo valor.\n",
    "- Añadir 3 valores de string a la tupla.\n",
    "- Verificar si una variable existe dentro de la tupla."
   ]
  },
  {
   "cell_type": "code",
   "execution_count": 10,
   "metadata": {},
   "outputs": [
    {
     "name": "stdout",
     "output_type": "stream",
     "text": [
      "99.99 es <class 'float'>\n",
      "30 es <class 'int'>\n",
      "True es <class 'bool'>\n",
      "(14+2j) es <class 'complex'>\n"
     ]
    }
   ],
   "source": [
    "f= 99.99\n",
    "i=30\n",
    "b= True\n",
    "c= 14+ 2j\n",
    "print(f,\"es\",type(f))\n",
    "print(i,\"es\",type(i))\n",
    "print(b,\"es\",type(b))\n",
    "print(c,\"es\",type(c))"
   ]
  },
  {
   "cell_type": "code",
   "execution_count": 31,
   "metadata": {},
   "outputs": [
    {
     "name": "stdout",
     "output_type": "stream",
     "text": [
      "Primer valor: 2 \n",
      "Ultimo valor: 18\n"
     ]
    }
   ],
   "source": [
    "tupla2=tuple(range(2,20,2))\n",
    "print(\"Primer valor:\",tupla2[0],\"\\nUltimo valor:\", tupla2[-1])"
   ]
  },
  {
   "cell_type": "code",
   "execution_count": 32,
   "metadata": {},
   "outputs": [
    {
     "name": "stdout",
     "output_type": "stream",
     "text": [
      "(2, 4, 6, 8, 10, 12, 14, 16, 18, 'Sahori', 'Verónica', 'Ramírez')\n"
     ]
    }
   ],
   "source": [
    "#dir(tupla)\n",
    "tupla2=tupla2.__add__((\"Sahori\",\"Verónica\",\"Ramírez\",))\n",
    "print(tupla2)"
   ]
  },
  {
   "cell_type": "code",
   "execution_count": 33,
   "metadata": {},
   "outputs": [
    {
     "data": {
      "text/plain": [
       "True"
      ]
     },
     "execution_count": 33,
     "metadata": {},
     "output_type": "execute_result"
    }
   ],
   "source": [
    "\"Sahori\" in tupla2"
   ]
  },
  {
   "cell_type": "markdown",
   "metadata": {},
   "source": [
    "### Listas\n",
    "- Crear una lista con 40 elementos aleatorios enteros.\n",
    "- Con una funcion (def) crear dos listas nuevas a partir de la lista creada por numeros aleatorios, en la cual en una esten los elementos pares, y en la otra los elementos impares.\n",
    "- Crear dos variables con la longitud de ambas listas nuevas e imprimir las variables.\n",
    "- Ordenar los elementos de la lista par de mayor a menor, y los de la lista impar de menor a mayor.\n",
    "- Utilizar al menos cuatro de las funciones de listas en python en la lista original de 40 elementos."
   ]
  },
  {
   "cell_type": "code",
   "execution_count": 96,
   "metadata": {},
   "outputs": [
    {
     "name": "stdout",
     "output_type": "stream",
     "text": [
      "[88, 41, 39, 161, 138, 176, 18, 138, 80, 54, 73, 47, 56, 181, 95, 72, 159, 184, 58, 22, 154, 197, 43, 159, 145, 91, 11, 24, 41, 92, 146, 126, 92, 62, 190, 174, 14, 155, 173, 29]\n"
     ]
    }
   ],
   "source": [
    "#dir(list)\n",
    "import random as ra\n",
    "lista=[]\n",
    "for i in range(40):\n",
    "   lista.append(ra.randint(1, 200))\n",
    "print(lista)"
   ]
  },
  {
   "cell_type": "code",
   "execution_count": 97,
   "metadata": {},
   "outputs": [
    {
     "name": "stdout",
     "output_type": "stream",
     "text": [
      "Lista números Pares: [88, 138, 176, 18, 138, 80, 54, 56, 72, 184, 58, 22, 154, 24, 92, 146, 126, 92, 62, 190, 174, 14]\n",
      "Lista números Impares: [41, 39, 161, 73, 47, 181, 95, 159, 197, 43, 159, 145, 91, 11, 41, 155, 173, 29]\n"
     ]
    }
   ],
   "source": [
    "def ParImpar(a):\n",
    "    Par=[]\n",
    "    Impar=[]\n",
    "    for i in range(len(a)):\n",
    "        if a[i]%2==0:\n",
    "            Par.append(a[i])\n",
    "        else:\n",
    "            Impar.append(a[i])\n",
    "    return Par, Impar\n",
    "\n",
    "Par,Impar=ParImpar(lista)\n",
    "print(\"Lista números Pares:\",Par)\n",
    "print(\"Lista números Impares:\",Impar)        "
   ]
  },
  {
   "cell_type": "code",
   "execution_count": 98,
   "metadata": {},
   "outputs": [
    {
     "name": "stdout",
     "output_type": "stream",
     "text": [
      "Cantidad de pares: 22 \n",
      "Cantidad de impares: 18\n"
     ]
    }
   ],
   "source": [
    "Pares=len(Par)\n",
    "Impares=len(Impar)\n",
    "print(\"Cantidad de pares:\",Pares,\"\\nCantidad de impares:\",Impares)"
   ]
  },
  {
   "cell_type": "code",
   "execution_count": 99,
   "metadata": {},
   "outputs": [
    {
     "name": "stdout",
     "output_type": "stream",
     "text": [
      "Lista números pares: [190, 184, 176, 174, 154, 146, 138, 138, 126, 92, 92, 88, 80, 72, 62, 58, 56, 54, 24, 22, 18, 14]\n",
      "Lista números impares: [11, 29, 39, 41, 41, 43, 47, 73, 91, 95, 145, 155, 159, 159, 161, 173, 181, 197]\n"
     ]
    }
   ],
   "source": [
    "Par.sort(reverse=True)\n",
    "Impar.sort()\n",
    "\n",
    "print(\"Lista números pares:\",Par)\n",
    "print(\"Lista números impares:\",Impar)"
   ]
  },
  {
   "cell_type": "code",
   "execution_count": 100,
   "metadata": {},
   "outputs": [
    {
     "name": "stdout",
     "output_type": "stream",
     "text": [
      "Listas concatenadas: [88, 41, 39, 161, 138, 176, 18, 138, 80, 54, 73, 47, 56, 181, 95, 72, 159, 184, 58, 22, 154, 197, 43, 159, 145, 91, 11, 24, 41, 92, 146, 126, 92, 62, 190, 174, 14, 155, 173, 29, 'Hola', 'Adiós']\n",
      "\n",
      "Ultimo elemento eliminado: [88, 41, 39, 161, 138, 176, 18, 138, 80, 54, 73, 47, 56, 181, 95, 72, 159, 184, 58, 22, 154, 197, 43, 159, 145, 91, 11, 24, 41, 92, 146, 126, 92, 62, 190, 174, 14, 155, 173, 29, 'Hola']\n",
      "\n",
      "Hola eliminado de la lista: [88, 41, 39, 161, 138, 176, 18, 138, 80, 54, 73, 47, 56, 181, 95, 72, 159, 184, 58, 22, 154, 197, 43, 159, 145, 91, 11, 24, 41, 92, 146, 126, 92, 62, 190, 174, 14, 155, 173, 29]\n",
      "\n",
      "Máximo número de la lista: 197\n"
     ]
    }
   ],
   "source": [
    "lista2=[\"Hola\",\"Adiós\"]\n",
    "lista.extend(lista2)\n",
    "print(\"Listas concatenadas:\",lista)\n",
    "\n",
    "lista.pop()\n",
    "print(\"\\nUltimo elemento eliminado:\",lista)\n",
    "\n",
    "lista.remove(\"Hola\")\n",
    "print(\"\\nHola eliminado de la lista:\",lista)\n",
    "\n",
    "print(\"\\nMáximo número de la lista:\",max(lista))"
   ]
  },
  {
   "cell_type": "markdown",
   "metadata": {},
   "source": [
    "### Diccionarios\n",
    "- Crear un diccionario de 6 personas que conozcas con su primer nombre y su edad.\n",
    "- Crear una lista con los valores de la edad y reacomodar la lista de menor a mayor valor.\n",
    "- Usando el diccionario y un loop, imprimir solo los nombres.\n",
    "- Añadir dos personas nuevas a tu diccionario, incluyendo edad."
   ]
  },
  {
   "cell_type": "code",
   "execution_count": 107,
   "metadata": {},
   "outputs": [
    {
     "name": "stdout",
     "output_type": "stream",
     "text": [
      "[2, 20, 21, 28, 51, 55]\n"
     ]
    }
   ],
   "source": [
    "dic={\"Vero\":55,\"Pablo\":51,\"Alexis\":21,\"Karen\":20,\"Erika\":28,\"Jolie\":2}\n",
    "Edad=list(dic.values())\n",
    "Edad.sort()\n",
    "print(Edad)"
   ]
  },
  {
   "cell_type": "code",
   "execution_count": 111,
   "metadata": {},
   "outputs": [
    {
     "name": "stdout",
     "output_type": "stream",
     "text": [
      "Vero\n",
      "Pablo\n",
      "Alexis\n",
      "Karen\n",
      "Erika\n",
      "Jolie\n"
     ]
    }
   ],
   "source": [
    "for key in dic:\n",
    "  print (key)"
   ]
  },
  {
   "cell_type": "code",
   "execution_count": 115,
   "metadata": {},
   "outputs": [
    {
     "name": "stdout",
     "output_type": "stream",
     "text": [
      "{'Vero': 55, 'Pablo': 51, 'Alexis': 21, 'Karen': 20, 'Erika': 28, 'Jolie': 2, 'Emmanuel': 27, 'Chayito': 84}\n"
     ]
    }
   ],
   "source": [
    "dic.setdefault(\"Emmanuel\",27)\n",
    "dic.setdefault(\"Chayito\",84)\n",
    "print(dic)"
   ]
  },
  {
   "cell_type": "markdown",
   "metadata": {},
   "source": [
    "### Sets\n",
    "- Crea un set con 100 numeros aleatorios enteros del 1 al 25.\n",
    "- Comprueba la longitud de tu set.\n",
    "- Crea una lista de 5 numeros aleatorios del 1 al 10 y comprueba si cada valor aparece en el set inicial."
   ]
  },
  {
   "cell_type": "code",
   "execution_count": 119,
   "metadata": {},
   "outputs": [
    {
     "name": "stdout",
     "output_type": "stream",
     "text": [
      "{1, 2, 3, 4, 5, 6, 7, 8, 9, 10, 11, 12, 13, 14, 15, 16, 17, 18, 19, 20, 21, 22, 23, 24, 25}\n"
     ]
    }
   ],
   "source": [
    "#dir(set)\n",
    "import random as ra\n",
    "Sets=set()\n",
    "for i in range(100):\n",
    "    Sets.add(ra.randint(1, 25))\n",
    "print(Sets)"
   ]
  },
  {
   "cell_type": "code",
   "execution_count": 120,
   "metadata": {},
   "outputs": [
    {
     "data": {
      "text/plain": [
       "25"
      ]
     },
     "execution_count": 120,
     "metadata": {},
     "output_type": "execute_result"
    }
   ],
   "source": [
    "len(Sets)"
   ]
  },
  {
   "cell_type": "code",
   "execution_count": 131,
   "metadata": {},
   "outputs": [
    {
     "name": "stdout",
     "output_type": "stream",
     "text": [
      "1 si esta en set inicial.\n",
      "7 si esta en set inicial.\n",
      "4 si esta en set inicial.\n",
      "8 si esta en set inicial.\n",
      "6 si esta en set inicial.\n",
      "[1, 7, 4, 8, 6]\n"
     ]
    }
   ],
   "source": [
    "lis=list()\n",
    "for i in range(5):\n",
    "    lis.append(ra.randint(1, 10))\n",
    "    if lis[i] in Sets:\n",
    "        print(lis[i],\"si esta en set inicial.\")\n",
    "    else:\n",
    "        print(lis[i],\"no esta en el set inicial.\")\n",
    "print(lis)"
   ]
  }
 ],
 "metadata": {
  "kernelspec": {
   "display_name": "Python 3",
   "language": "python",
   "name": "python3"
  },
  "language_info": {
   "codemirror_mode": {
    "name": "ipython",
    "version": 3
   },
   "file_extension": ".py",
   "mimetype": "text/x-python",
   "name": "python",
   "nbconvert_exporter": "python",
   "pygments_lexer": "ipython3",
   "version": "3.8.5"
  }
 },
 "nbformat": 4,
 "nbformat_minor": 4
}
