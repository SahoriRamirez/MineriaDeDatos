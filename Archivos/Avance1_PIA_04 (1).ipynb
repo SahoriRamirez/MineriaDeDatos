{
 "cells": [
  {
   "cell_type": "markdown",
   "metadata": {},
   "source": [
    "# Avance 1 del PIA\n",
    "\n",
    "**Integrantes:**\n",
    "\n",
    "    - 1802780, Ramírez Medellín, Sahori Verónica\n",
    "    - 1937834, Flores Guerra, Irlanda Victoria\n",
    "    - 1806569, Treviño Elizondo, Melenie Anahí\n",
    "    - 1802294, Nuñes Márquez,Kevin Orlando\n",
    "    \n",
    "**Equipo: 04**"
   ]
  },
  {
   "cell_type": "markdown",
   "metadata": {},
   "source": [
    "## 1. Suicide Rates Overview 1985 to 2016\n",
    "\n",
    "https://www.kaggle.com/russellyates88/suicide-rates-overview-1985-to-2016\n",
    "\n",
    "### 2. Descripción de los datos  \n",
    "\n",
    "**a)**\tTipo de datos: Tabla\n",
    "\n",
    "**b)**\tDescripción de los datos:\n",
    "\n",
    "   - **Country:** Se identifica alrededor de 110 países en los que se llevó acabo el recuento de la información.\n",
    "\n",
    "   - **Year:** Datos del año en que ocurrió el incidente.\n",
    "\n",
    "   - **Sex:** Género de la persona: Femenino o Masculino.\n",
    "\n",
    "   - **Age:**  El rango de edad en la que se encontraba la persona.\n",
    "\n",
    "   - **Suicides_no:** Cantidad de suicidios encontrados en el rango de edad.\n",
    "\n",
    "   - **Population:** Conjunto de habitantes del país en que ocurre el incidente.\n",
    "\n",
    "   - **Suicides/100k pop:** Tasa de suicidios que hay, la tasa se saca de la cantidad de suicidios entre la población de habitantes por cada 100,000 personas.\n",
    "\n",
    "   - **Country-year:** País en el que sucede el incidente además del año en que sucede.\n",
    "\n",
    "   - **HDI for year:** Mide los adelantos medios de un país en tres aspectos básicos del desarrollo humano: Una vida larga y saludable, medida por la esperanza de vida al nacer.\n",
    "\n",
    "   - **Gdp_for_year($) :** Valor monetario que tiene el país por año, que nos indica el crecimiento económico de un país.\n",
    "\n",
    "   - **Gdp_per_capita ($):** Es un indicador económico que mide la relación existente entre el nivel de renta de un país y su población.\n",
    "\n",
    "   - **Generation:** Es toda la gente que nace y vive más o menos al mismo tiempo, considerada colectivamente. Como lo son: Generación X, Generación Y, Millenials, Boomers, Silent, G.I. Generation.\n",
    "\n",
    "### 3. Justificación del uso de los datos  \n",
    "\n",
    "**a)** La muerte es tan común en el ser humano como la vida misma. Existen muchas razones por las que alguien puede morir y son diversos los factores por los que este suceso puede acontecer. Decidimos escoger estos temas por lo recurrente y presente que es la muerte en la vida de todos. Los datos que escogimos están muy completos con referencia al tema de suicidios, sin duda algo que puede llamar la atención es saber toda la cantidad de decesos ocasionados por esta causa, si bien son temas que se pueden considerar morbosos, se trabajará esta información con el respeto que se debe.\n",
    "\n",
    "**b)** Un gran beneficio que podemos encontrar es saber el contexto por lo que las victimas estaban pasando para tratar de encontrar una manera de difundir información sobre la prevención de este.\n",
    "\n",
    "\n",
    "### 4. Objetivo final\n",
    "\n",
    "El principal objetivo es conocer los países y el rango de edad en los que se encuentra más frecuente los suicidios para tratar de encontrar si existe relación respecto al tipo de género, generación, concentración de población y/o calidad económica del país. Así, conocer las personas más propensas según el género y rango de edad y alertar a los países sobre los posibles factores y características sociales y económicas para la correcta prevención de suicidios.\n",
    "\n",
    "### 5. Preguntas de interés\n",
    "- ¿En que edad se encuentra el mayor índice de suicidios en el mundo y a través del tiempo?\n",
    "- ¿Existe relación entre el índice de suicidios en cada país respecto a su economía?\n",
    "- ¿La concentración poblacional es un factor ante los suicidios?\n",
    "- ¿Las circunstancias en la que vivió cada generación es un factor ante los suicidios?"
   ]
  },
  {
   "cell_type": "markdown",
   "metadata": {},
   "source": [
    "### 6. Programación de limpieza de datos\n",
    "\n",
    "**Datos sin manipulación:**\n",
    "Aquí leemos el dataset para observar y analizar la cantidad de datos y columnas que se poseen, para poder determinar su utilidad."
   ]
  },
  {
   "cell_type": "code",
   "execution_count": 27,
   "metadata": {},
   "outputs": [
    {
     "name": "stdout",
     "output_type": "stream",
     "text": [
      "          country  year     sex          age  suicides_no  population  \\\n",
      "0         Albania  1987    male  15-24 years           21      312900   \n",
      "1         Albania  1987    male  35-54 years           16      308000   \n",
      "2         Albania  1987  female  15-24 years           14      289700   \n",
      "3         Albania  1987    male    75+ years            1       21800   \n",
      "4         Albania  1987    male  25-34 years            9      274300   \n",
      "...           ...   ...     ...          ...          ...         ...   \n",
      "27815  Uzbekistan  2014  female  35-54 years          107     3620833   \n",
      "27816  Uzbekistan  2014  female    75+ years            9      348465   \n",
      "27817  Uzbekistan  2014    male   5-14 years           60     2762158   \n",
      "27818  Uzbekistan  2014  female   5-14 years           44     2631600   \n",
      "27819  Uzbekistan  2014  female  55-74 years           21     1438935   \n",
      "\n",
      "       suicides/100k pop    country-year  HDI for year   gdp_for_year ($)   \\\n",
      "0                   6.71     Albania1987           NaN          2156624900   \n",
      "1                   5.19     Albania1987           NaN          2156624900   \n",
      "2                   4.83     Albania1987           NaN          2156624900   \n",
      "3                   4.59     Albania1987           NaN          2156624900   \n",
      "4                   3.28     Albania1987           NaN          2156624900   \n",
      "...                  ...             ...           ...                 ...   \n",
      "27815               2.96  Uzbekistan2014         0.675         63067077179   \n",
      "27816               2.58  Uzbekistan2014         0.675         63067077179   \n",
      "27817               2.17  Uzbekistan2014         0.675         63067077179   \n",
      "27818               1.67  Uzbekistan2014         0.675         63067077179   \n",
      "27819               1.46  Uzbekistan2014         0.675         63067077179   \n",
      "\n",
      "       gdp_per_capita ($)       generation  \n",
      "0                     796     Generation X  \n",
      "1                     796           Silent  \n",
      "2                     796     Generation X  \n",
      "3                     796  G.I. Generation  \n",
      "4                     796          Boomers  \n",
      "...                   ...              ...  \n",
      "27815                2309     Generation X  \n",
      "27816                2309           Silent  \n",
      "27817                2309     Generation Z  \n",
      "27818                2309     Generation Z  \n",
      "27819                2309          Boomers  \n",
      "\n",
      "[27820 rows x 12 columns]\n"
     ]
    }
   ],
   "source": [
    "import pandas as pd\n",
    "import numpy as np\n",
    "\n",
    "#Para acceder al dataset,cambiar la url \n",
    "suicidios=pd.read_excel(\"C:/Users/almag/Documents/7mo Semestre/Minería de Datos/master.xlsx\")\n",
    "print(suicidios)"
   ]
  },
  {
   "cell_type": "markdown",
   "metadata": {},
   "source": [
    "**Información básica de cada una de las columnas:** Nos ayuda a determinar la cantidad de memoria que usa la base de datos, cantidad de datos en el dataset, el promedio de los datos, el tipo de datos, la frecuencia, entre otros."
   ]
  },
  {
   "cell_type": "code",
   "execution_count": 2,
   "metadata": {},
   "outputs": [
    {
     "name": "stdout",
     "output_type": "stream",
     "text": [
      "<class 'pandas.core.frame.DataFrame'>\n",
      "RangeIndex: 27820 entries, 0 to 27819\n",
      "Data columns (total 12 columns):\n",
      " #   Column              Non-Null Count  Dtype  \n",
      "---  ------              --------------  -----  \n",
      " 0   country             27820 non-null  object \n",
      " 1   year                27820 non-null  int64  \n",
      " 2   sex                 27820 non-null  object \n",
      " 3   age                 27820 non-null  object \n",
      " 4   suicides_no         27820 non-null  int64  \n",
      " 5   population          27820 non-null  int64  \n",
      " 6   suicides/100k pop   27820 non-null  float64\n",
      " 7   country-year        27820 non-null  object \n",
      " 8   HDI for year        8364 non-null   float64\n",
      " 9    gdp_for_year ($)   27820 non-null  int64  \n",
      " 10  gdp_per_capita ($)  27820 non-null  int64  \n",
      " 11  generation          27820 non-null  object \n",
      "dtypes: float64(2), int64(5), object(5)\n",
      "memory usage: 2.5+ MB\n"
     ]
    },
    {
     "data": {
      "text/plain": [
       "count            27820\n",
       "unique               6\n",
       "top       Generation X\n",
       "freq              6408\n",
       "Name: generation, dtype: object"
      ]
     },
     "execution_count": 2,
     "metadata": {},
     "output_type": "execute_result"
    }
   ],
   "source": [
    "suicidios.info()\n",
    "suicidios['country'].describe()\n",
    "suicidios['year'].describe()\n",
    "suicidios['sex'].describe()\n",
    "suicidios['age'].describe()\n",
    "suicidios['suicides_no'].describe()\n",
    "suicidios['population'].describe()\n",
    "suicidios['suicides/100k pop'].describe()\n",
    "suicidios['country-year'].describe()\n",
    "suicidios['HDI for year'].describe()\n",
    "suicidios[' gdp_for_year ($) '].describe()\n",
    "suicidios['gdp_per_capita ($)'].describe()\n",
    "suicidios['generation'].describe()"
   ]
  },
  {
   "cell_type": "markdown",
   "metadata": {},
   "source": [
    "**Localización de los datos nulos en la base de datos:** Donde pudimos observar que la única columna que presenta datos nulos es “HDI for year”."
   ]
  },
  {
   "cell_type": "code",
   "execution_count": 3,
   "metadata": {},
   "outputs": [
    {
     "data": {
      "text/plain": [
       "country               False\n",
       "year                  False\n",
       "sex                   False\n",
       "age                   False\n",
       "suicides_no           False\n",
       "population            False\n",
       "suicides/100k pop     False\n",
       "country-year          False\n",
       "HDI for year           True\n",
       " gdp_for_year ($)     False\n",
       "gdp_per_capita ($)    False\n",
       "generation            False\n",
       "dtype: bool"
      ]
     },
     "execution_count": 3,
     "metadata": {},
     "output_type": "execute_result"
    }
   ],
   "source": [
    "suicidios.isnull().any()"
   ]
  },
  {
   "cell_type": "markdown",
   "metadata": {},
   "source": [
    "**Eliminar columnas no deseadas:** Determinar cuáles columnas no son relevantes y eliminarlas del dataset ya que no se utilizarán.\n",
    "\n",
    "Se decidió eliminar las columnas \"country-year\",\"HDI for year\", \"gdp_per_capita($)\" ya que la información no será relevante. Así mismo, se decidió eliminar la columna \"age\" para su modificación:\n",
    "\n",
    "- En la columna \"country-year\" encontramos una concatenación de las primeras 2 columnas, en tal caso, nos parece irrelevante.\n",
    "- Columna \"HDI for year\" contiene muchos datos nulos sobre el índice de desarrollo humano, ya que es un factor que no estaremos considerando en el análisis que llevaremos a cabo, se eliminará.\n",
    "- Dado que \"gdp_per_capita()\" muestra información del PIB por capital, decidimos que la información en gdp_for_years() es suficiente para cumplir con nuestros objetivos. Por lo tanto, se decidió eliminar \"gdp_per_capita($)\" del dataset.\n",
    "- Columna \"age\" eliminada para modificar la información dentro."
   ]
  },
  {
   "cell_type": "code",
   "execution_count": 28,
   "metadata": {},
   "outputs": [
    {
     "name": "stdout",
     "output_type": "stream",
     "text": [
      "          country  year     sex  suicides_no  population  suicides/100k pop  \\\n",
      "0         Albania  1987    male           21      312900               6.71   \n",
      "1         Albania  1987    male           16      308000               5.19   \n",
      "2         Albania  1987  female           14      289700               4.83   \n",
      "3         Albania  1987    male            1       21800               4.59   \n",
      "4         Albania  1987    male            9      274300               3.28   \n",
      "...           ...   ...     ...          ...         ...                ...   \n",
      "27815  Uzbekistan  2014  female          107     3620833               2.96   \n",
      "27816  Uzbekistan  2014  female            9      348465               2.58   \n",
      "27817  Uzbekistan  2014    male           60     2762158               2.17   \n",
      "27818  Uzbekistan  2014  female           44     2631600               1.67   \n",
      "27819  Uzbekistan  2014  female           21     1438935               1.46   \n",
      "\n",
      "        gdp_for_year ($)        generation  \n",
      "0              2156624900     Generation X  \n",
      "1              2156624900           Silent  \n",
      "2              2156624900     Generation X  \n",
      "3              2156624900  G.I. Generation  \n",
      "4              2156624900          Boomers  \n",
      "...                   ...              ...  \n",
      "27815         63067077179     Generation X  \n",
      "27816         63067077179           Silent  \n",
      "27817         63067077179     Generation Z  \n",
      "27818         63067077179     Generation Z  \n",
      "27819         63067077179          Boomers  \n",
      "\n",
      "[27820 rows x 8 columns]\n"
     ]
    }
   ],
   "source": [
    "suicidios_limpieza=suicidios.drop(['country-year','HDI for year','gdp_per_capita ($)','age'],axis = 1 )\n",
    "\n",
    "#Visualización de la base de datos sin las columnas\n",
    "print(suicidios_limpieza)"
   ]
  },
  {
   "cell_type": "markdown",
   "metadata": {},
   "source": [
    "**Modificación de las columnas:** Modificación en los datos dentro de las columnas para una fácil utilización de los datos.\n",
    "\n",
    "Pasos realizados en la modificación:\n",
    "- Se modificó la escritura del rango \"5-14\" a \"05-14\" para el correcto ordenamiento de los datos.\n",
    "- Se modificó la columna \"age\", eliminando la palabra \"years\" dentro del intervalo de años para conservar únicamente el valor del rango sin la palabra years.\n",
    "- Se agregan los datos sin la palabra \"years\".\n",
    "\n",
    "Por último, se muestra la base de datos con la modificación realizada."
   ]
  },
  {
   "cell_type": "code",
   "execution_count": 29,
   "metadata": {},
   "outputs": [
    {
     "name": "stdout",
     "output_type": "stream",
     "text": [
      "          country  year     sex     age  suicides_no  population  \\\n",
      "0         Albania  1987    male  15-24            21      312900   \n",
      "1         Albania  1987    male  35-54            16      308000   \n",
      "2         Albania  1987  female  15-24            14      289700   \n",
      "3         Albania  1987    male    75+             1       21800   \n",
      "4         Albania  1987    male  25-34             9      274300   \n",
      "...           ...   ...     ...     ...          ...         ...   \n",
      "27815  Uzbekistan  2014  female  35-54           107     3620833   \n",
      "27816  Uzbekistan  2014  female    75+             9      348465   \n",
      "27817  Uzbekistan  2014    male  05-14            60     2762158   \n",
      "27818  Uzbekistan  2014  female  05-14            44     2631600   \n",
      "27819  Uzbekistan  2014  female  55-74            21     1438935   \n",
      "\n",
      "       suicides/100k pop   gdp_for_year ($)        generation  \n",
      "0                   6.71          2156624900     Generation X  \n",
      "1                   5.19          2156624900           Silent  \n",
      "2                   4.83          2156624900     Generation X  \n",
      "3                   4.59          2156624900  G.I. Generation  \n",
      "4                   3.28          2156624900          Boomers  \n",
      "...                  ...                 ...              ...  \n",
      "27815               2.96         63067077179     Generation X  \n",
      "27816               2.58         63067077179           Silent  \n",
      "27817               2.17         63067077179     Generation Z  \n",
      "27818               1.67         63067077179     Generation Z  \n",
      "27819               1.46         63067077179          Boomers  \n",
      "\n",
      "[27820 rows x 9 columns]\n"
     ]
    }
   ],
   "source": [
    "#Quitando \"years\" de la columa age\n",
    "letras_eliminados=suicidios['age'].str.replace('5-14 years','05-14 years')\n",
    "letras_eliminados=letras_eliminados.str.replace('years','')\n",
    "\n",
    "#Datos agregados sin \"years\"\n",
    "suicidios_limpieza.insert(3,'age',letras_eliminados)\n",
    "\n",
    "#Visualización de la base de datos\n",
    "print(suicidios_limpieza)"
   ]
  },
  {
   "cell_type": "markdown",
   "metadata": {},
   "source": [
    "**Cambio de Nombre:** \n",
    "Se decidió cambiar el nombre de las columnas para mejorar la utilización de los datos."
   ]
  },
  {
   "cell_type": "code",
   "execution_count": 30,
   "metadata": {},
   "outputs": [
    {
     "data": {
      "text/plain": [
       "['PAIS',\n",
       " 'AÑO',\n",
       " 'SEXO',\n",
       " 'EDAD',\n",
       " 'NUM_SUICIDIOS',\n",
       " 'POBLACION',\n",
       " 'SUICIDIOS POR CADA 100K',\n",
       " 'PIB',\n",
       " 'GENERACION']"
      ]
     },
     "execution_count": 30,
     "metadata": {},
     "output_type": "execute_result"
    }
   ],
   "source": [
    "#Cambio de nombre de columnas \n",
    "suicidios_limpieza=suicidios_limpieza.set_axis(['PAIS', 'AÑO', 'SEXO','EDAD','NUM_SUICIDIOS','POBLACION','SUICIDIOS POR CADA 100K','PIB','GENERACION'], axis='columns', inplace=False)\n",
    "\n",
    "#Nombre nuevo en las columnas\n",
    "list(suicidios_limpieza.columns)"
   ]
  },
  {
   "cell_type": "markdown",
   "metadata": {},
   "source": [
    "**Ordenamiento de datos:** Se decidió ordenar los datos por año y estos a su vez ordenados por edad y sexo.  "
   ]
  },
  {
   "cell_type": "code",
   "execution_count": 31,
   "metadata": {},
   "outputs": [
    {
     "name": "stdout",
     "output_type": "stream",
     "text": [
      "                      PAIS   AÑO    SEXO    EDAD  NUM_SUICIDIOS  POBLACION  \\\n",
      "267    Antigua and Barbuda  1985  female  05-14               0       7339   \n",
      "599              Argentina  1985  female  05-14              11    2955200   \n",
      "1436             Australia  1985  female  05-14               4    1231400   \n",
      "1797               Austria  1985  female  05-14               2     453859   \n",
      "2364               Bahamas  1985  female  05-14               0      24500   \n",
      "...                    ...   ...     ...     ...            ...        ...   \n",
      "17438          Netherlands  2016    male    75+             123     541327   \n",
      "20229                Qatar  2016    male    75+               0       6093   \n",
      "20927              Romania  2016    male    75+             171     579838   \n",
      "24716               Sweden  2016    male    75+             100     359481   \n",
      "25304             Thailand  2016    male    75+             152    1124052   \n",
      "\n",
      "       SUICIDIOS POR CADA 100K           PIB    GENERACION  \n",
      "267                       0.00     240923926  Generation X  \n",
      "599                       0.37   88416668900  Generation X  \n",
      "1436                      0.32  180190994861  Generation X  \n",
      "1797                      0.44   69386774475  Generation X  \n",
      "2364                      0.00    2320699900  Generation X  \n",
      "...                        ...           ...           ...  \n",
      "17438                    22.72  777227541581        Silent  \n",
      "20229                     0.00  152451923077        Silent  \n",
      "20927                    29.49  187805922349        Silent  \n",
      "24716                    27.82  514459972806        Silent  \n",
      "25304                    13.52  411755164833        Silent  \n",
      "\n",
      "[27820 rows x 9 columns]\n"
     ]
    }
   ],
   "source": [
    "suicidios_limpieza=suicidios_limpieza.sort_values(by=['AÑO','EDAD','SEXO'])\n",
    "\n",
    "print(suicidios_limpieza)"
   ]
  },
  {
   "cell_type": "markdown",
   "metadata": {},
   "source": [
    "**Crear nuevo archivo con la base de datos editada:** Creación del nuevo documento modificado."
   ]
  },
  {
   "cell_type": "code",
   "execution_count": 32,
   "metadata": {},
   "outputs": [
    {
     "name": "stdout",
     "output_type": "stream",
     "text": [
      "                      PAIS   AÑO    SEXO    EDAD  NUM_SUICIDIOS  POBLACION  \\\n",
      "267    Antigua and Barbuda  1985  female  05-14               0       7339   \n",
      "599              Argentina  1985  female  05-14              11    2955200   \n",
      "1436             Australia  1985  female  05-14               4    1231400   \n",
      "1797               Austria  1985  female  05-14               2     453859   \n",
      "2364               Bahamas  1985  female  05-14               0      24500   \n",
      "...                    ...   ...     ...     ...            ...        ...   \n",
      "17438          Netherlands  2016    male    75+             123     541327   \n",
      "20229                Qatar  2016    male    75+               0       6093   \n",
      "20927              Romania  2016    male    75+             171     579838   \n",
      "24716               Sweden  2016    male    75+             100     359481   \n",
      "25304             Thailand  2016    male    75+             152    1124052   \n",
      "\n",
      "       SUICIDIOS POR CADA 100K           PIB    GENERACION  \n",
      "267                       0.00     240923926  Generation X  \n",
      "599                       0.37   88416668900  Generation X  \n",
      "1436                      0.32  180190994861  Generation X  \n",
      "1797                      0.44   69386774475  Generation X  \n",
      "2364                      0.00    2320699900  Generation X  \n",
      "...                        ...           ...           ...  \n",
      "17438                    22.72  777227541581        Silent  \n",
      "20229                     0.00  152451923077        Silent  \n",
      "20927                    29.49  187805922349        Silent  \n",
      "24716                    27.82  514459972806        Silent  \n",
      "25304                    13.52  411755164833        Silent  \n",
      "\n",
      "[27820 rows x 9 columns]\n"
     ]
    }
   ],
   "source": [
    "suicidios_limpieza.to_csv('suicidios-limpieza.csv', header = False, index = False)\n",
    "\n",
    "#Visualización de la base de datos\n",
    "print(suicidios_limpieza)"
   ]
  },
  {
   "cell_type": "markdown",
   "metadata": {},
   "source": [
    "## Homicide Reports, 1980-2014\n",
    "\n",
    "https://www.kaggle.com/murderaccountability/homicide-reports\n"
   ]
  },
  {
   "cell_type": "markdown",
   "metadata": {},
   "source": [
    "### 2. Descripción de los datos \n",
    "\n",
    "**a)**\tTipo de dato: Tabla\n",
    "\n",
    "**b)**\tDescripción de datos\n",
    "\n",
    "- **Record ID:** Número de identificación del homicidio. \t\n",
    "- **Agency Code:** Código de agencia.\t\n",
    "- **Agency Name:** Nombre de la agencia.\t\n",
    "- **Agency Type:** Tipo de agencia como la policía regional, municipal,etc.\n",
    "- **City:** Ciudad donde sucedió el homicidio.\n",
    "- **State:** El estado en donde sucedió el incidente.\n",
    "- **Year:** Año que sucede el homicidio.\n",
    "- **Month:** Mes en el que sucede el incidente.\n",
    "- **Incident:** Cantidad de incidentes que ocurrieron en ese mes y año.\n",
    "- **Crime Type:** Tipo de crimen que se cometió, puede ser asesinato, homicidio involuntario o homicidio por negligencia.\n",
    "- **Crime Solved:** Saber si se resolvió el crimen o no.\n",
    "- **Victim Sex:** Genero de la víctima.\n",
    "- **Victim Age:** Edad de la víctima.\n",
    "- **Victim Race:** Tipo de ascendencia que tiene la víctima.\n",
    "- **Victim Ethnicity:** Tipo de rasgos, lengua o cultura de la que proviene la víctima. \n",
    "- **Perpetrator Sex:** Genero del agresor.\n",
    "- **Perpetrator Age:** Edad del agresor.\n",
    "- **Perpetrator Race:** Tipo de ascendencia que tiene el agresor.\n",
    "- **Perpetrator Ethnicity:** Tipo de rasgos, lengua o cultura de la que proviene el agresor.\n",
    "- **Relationship:** Conexión que hay entre el agresor y la víctima.\n",
    "- **Weapon:** Tipo de arma que se usó en el homicidio.\n",
    "- **Victim Count:** Cantidad de victimas\n",
    "- **Perpetrator Count:** Cantidad de agresores\n",
    "- **Record Source:** Agencia en donde se tiene el registró.\n",
    "\n",
    "### 3. Justificación del uso de los datos \n",
    "\n",
    "**a)** El homicidio es un acto terrible que ha acompañado al ser humano desde que se tienen registros. A lo largo del tiempo, Estados Unidos ha sido cuna de monstruos tan terribles como John Wayne Gace, Ted Bundy, Ed Kemper, entre otros. Si bien estas personas terminaron con la vida de muchas personas, el homicidio no es sólo cosa de asesinos seriales, y eso es lo que podemos observar en esta base de datos. Los datos proporcionados nos ayudan a ver las conexiones de la víctima y el agresor y como en muchos casos, el agresor puede llegar a ser una persona cercana a la víctima. Así, buscando analizar los datos para determinar alguna de las razones por las cuales alguien cometería un acto tan atroz, nos llevó a querer analizar este tipo de información.\n",
    "\n",
    "**b)** Si bien no podemos llegar a conclusiones del porque se realizó el homicidio, dado que las razones del agresor dependen de muchos factores, ya sea su entorno, la crianza, etc. Es posible que, mas que señalar a las personas más probables en cometer este acto, podemos tratar de determinar el área donde han sido más frecuentes los asesinatos para proporcionar mayor atención psicológica y así tratar de evitar este tipo de actos.\n",
    "\n",
    "\n",
    "### 4. Objetivo final\n",
    "\n",
    "El objetivo principal de trabajar con estos datos es poder analizar y observar la magnitud de este tipo de actos, en que estados han existido más homicidios, el porcentaje de casos resueltos, observar las conexiones entre la víctima y el agresor, las edades y los géneros en los cuales se encuentra la mayor recurrencia de estos actos. Así mismo, observar cómo se tienen estereotipos sobre algunas razas y géneros, y como los datos determinan la verdad en cuanto a este tema. Por último, poder determinar cuál fue el arma más usada al cometer los homicidios y si la facilidad de la disposición de armas de fuego en Estados Unidos es un factor ante estos actos.\n",
    "\n",
    "\n",
    "### 5. Preguntas de interés\n",
    "\n",
    "- ¿Cuál es la edad más frecuente en víctimas y criminales?\n",
    "- ¿Cuáles son los estados con mayor incidencia de homicidios?\n",
    "- ¿Cuál es el porcentaje de casos resueltos en el país?\n",
    "- ¿Existe una relación directa entre la víctima y el agresor en la mayoría de los casos?\n",
    "- ¿Fue el arma de fuego la más usada para la realización de los homicidios?\n",
    "- Determinar si existe alguna relación entre la gravedad de homicidios cometidos a través de los años a causa de  los estereotipos existentes y mostrar si dichos actos han ido disminuyendo o aumentando.\n"
   ]
  },
  {
   "cell_type": "markdown",
   "metadata": {},
   "source": [
    "### 6. Programación de limpieza de datos\n",
    "\n",
    "**Datos sin manipulación:**\n",
    "Aquí leemos el dataset para observar y analizar la cantidad de datos y columnas que se poseen, para poder determinar su utilidad."
   ]
  },
  {
   "cell_type": "code",
   "execution_count": 1,
   "metadata": {},
   "outputs": [
    {
     "name": "stderr",
     "output_type": "stream",
     "text": [
      "C:\\Users\\almag\\anaconda3\\lib\\site-packages\\IPython\\core\\interactiveshell.py:3146: DtypeWarning: Columns (16) have mixed types.Specify dtype option on import or set low_memory=False.\n",
      "  has_raised = await self.run_ast_nodes(code_ast.body, cell_name,\n"
     ]
    },
    {
     "name": "stdout",
     "output_type": "stream",
     "text": [
      "        Record ID Agency Code      Agency Name       Agency Type        City  \\\n",
      "0               1     AK00101        Anchorage  Municipal Police   Anchorage   \n",
      "1               2     AK00101        Anchorage  Municipal Police   Anchorage   \n",
      "2               3     AK00101        Anchorage  Municipal Police   Anchorage   \n",
      "3               4     AK00101        Anchorage  Municipal Police   Anchorage   \n",
      "4               5     AK00101        Anchorage  Municipal Police   Anchorage   \n",
      "...           ...         ...              ...               ...         ...   \n",
      "638449     638450     WY01500      Park County           Sheriff        Park   \n",
      "638450     638451     WY01700  Sheridan County           Sheriff    Sheridan   \n",
      "638451     638452     WY01701         Sheridan  Municipal Police    Sheridan   \n",
      "638452     638453     WY01800  Sublette County           Sheriff    Sublette   \n",
      "638453     638454     WY01902     Rock Springs  Municipal Police  Sweetwater   \n",
      "\n",
      "          State  Year      Month  Incident              Crime Type  ...  \\\n",
      "0        Alaska  1980    January         1  Murder or Manslaughter  ...   \n",
      "1        Alaska  1980      March         1  Murder or Manslaughter  ...   \n",
      "2        Alaska  1980      March         2  Murder or Manslaughter  ...   \n",
      "3        Alaska  1980      April         1  Murder or Manslaughter  ...   \n",
      "4        Alaska  1980      April         2  Murder or Manslaughter  ...   \n",
      "...         ...   ...        ...       ...                     ...  ...   \n",
      "638449  Wyoming  2014    January         1  Murder or Manslaughter  ...   \n",
      "638450  Wyoming  2014       June         1  Murder or Manslaughter  ...   \n",
      "638451  Wyoming  2014  September         1  Murder or Manslaughter  ...   \n",
      "638452  Wyoming  2014   December         1  Murder or Manslaughter  ...   \n",
      "638453  Wyoming  2014  September         1  Murder or Manslaughter  ...   \n",
      "\n",
      "       Victim Ethnicity Perpetrator Sex  Perpetrator Age  \\\n",
      "0               Unknown            Male               15   \n",
      "1               Unknown            Male               42   \n",
      "2               Unknown         Unknown                0   \n",
      "3               Unknown            Male               42   \n",
      "4               Unknown         Unknown                0   \n",
      "...                 ...             ...              ...   \n",
      "638449         Hispanic         Unknown                0   \n",
      "638450          Unknown            Male               57   \n",
      "638451          Unknown          Female               22   \n",
      "638452     Not Hispanic            Male               31   \n",
      "638453     Not Hispanic          Female               24   \n",
      "\n",
      "                     Perpetrator Race Perpetrator Ethnicity  Relationship  \\\n",
      "0       Native American/Alaska Native               Unknown  Acquaintance   \n",
      "1                               White               Unknown  Acquaintance   \n",
      "2                             Unknown               Unknown       Unknown   \n",
      "3                               White               Unknown  Acquaintance   \n",
      "4                             Unknown               Unknown       Unknown   \n",
      "...                               ...                   ...           ...   \n",
      "638449                        Unknown               Unknown       Unknown   \n",
      "638450                          White               Unknown  Acquaintance   \n",
      "638451         Asian/Pacific Islander               Unknown      Daughter   \n",
      "638452                          White          Not Hispanic      Stranger   \n",
      "638453                          White          Not Hispanic      Daughter   \n",
      "\n",
      "               Weapon Victim Count Perpetrator Count Record Source  \n",
      "0        Blunt Object            0                 0           FBI  \n",
      "1       Strangulation            0                 0           FBI  \n",
      "2             Unknown            0                 0           FBI  \n",
      "3       Strangulation            0                 0           FBI  \n",
      "4             Unknown            0                 1           FBI  \n",
      "...               ...          ...               ...           ...  \n",
      "638449        Handgun            0                 0           FBI  \n",
      "638450        Handgun            0                 0           FBI  \n",
      "638451    Suffocation            0                 0           FBI  \n",
      "638452          Knife            0                 1           FBI  \n",
      "638453   Blunt Object            0                 1           FBI  \n",
      "\n",
      "[638454 rows x 24 columns]\n"
     ]
    }
   ],
   "source": [
    "import pandas as pd\n",
    "import numpy as np\n",
    "\n",
    "#Para acceder al dataset,cambiar la url \n",
    "homicidios=pd.read_csv(\"C:/Users/almag/Documents/7mo Semestre/Minería de Datos/Homicidios.csv\")\n",
    "print(homicidios)"
   ]
  },
  {
   "cell_type": "markdown",
   "metadata": {},
   "source": [
    "**Información básica de cada una de las columnas:** Nos ayuda a determinar la cantidad de memoria que usa la base de datos, cantidad de datos en el dataset, el promedio de los datos, el tipo de datos, la frecuencia, entre otros."
   ]
  },
  {
   "cell_type": "code",
   "execution_count": 2,
   "metadata": {},
   "outputs": [
    {
     "name": "stdout",
     "output_type": "stream",
     "text": [
      "<class 'pandas.core.frame.DataFrame'>\n",
      "RangeIndex: 638454 entries, 0 to 638453\n",
      "Data columns (total 24 columns):\n",
      " #   Column                 Non-Null Count   Dtype \n",
      "---  ------                 --------------   ----- \n",
      " 0   Record ID              638454 non-null  int64 \n",
      " 1   Agency Code            638454 non-null  object\n",
      " 2   Agency Name            638454 non-null  object\n",
      " 3   Agency Type            638454 non-null  object\n",
      " 4   City                   638454 non-null  object\n",
      " 5   State                  638454 non-null  object\n",
      " 6   Year                   638454 non-null  int64 \n",
      " 7   Month                  638454 non-null  object\n",
      " 8   Incident               638454 non-null  int64 \n",
      " 9   Crime Type             638454 non-null  object\n",
      " 10  Crime Solved           638454 non-null  object\n",
      " 11  Victim Sex             638454 non-null  object\n",
      " 12  Victim Age             638454 non-null  int64 \n",
      " 13  Victim Race            638454 non-null  object\n",
      " 14  Victim Ethnicity       638454 non-null  object\n",
      " 15  Perpetrator Sex        638454 non-null  object\n",
      " 16  Perpetrator Age        638454 non-null  object\n",
      " 17  Perpetrator Race       638454 non-null  object\n",
      " 18  Perpetrator Ethnicity  638454 non-null  object\n",
      " 19  Relationship           638454 non-null  object\n",
      " 20  Weapon                 638454 non-null  object\n",
      " 21  Victim Count           638454 non-null  int64 \n",
      " 22  Perpetrator Count      638454 non-null  int64 \n",
      " 23  Record Source          638454 non-null  object\n",
      "dtypes: int64(6), object(18)\n",
      "memory usage: 116.9+ MB\n"
     ]
    },
    {
     "data": {
      "text/plain": [
       "count     638454\n",
       "unique         2\n",
       "top          FBI\n",
       "freq      616647\n",
       "Name: Record Source, dtype: object"
      ]
     },
     "execution_count": 2,
     "metadata": {},
     "output_type": "execute_result"
    }
   ],
   "source": [
    "homicidios.info()\n",
    "homicidios['Record ID'].describe()\n",
    "homicidios['Agency Code'].describe()\n",
    "homicidios['Agency Name'].describe()\n",
    "homicidios['Agency Type'].describe()\n",
    "homicidios['City'].describe()\n",
    "homicidios['State'].describe()\n",
    "homicidios['Year'].describe()\n",
    "homicidios['Month'].describe()\n",
    "homicidios['Incident'].describe()\n",
    "homicidios['Crime Type'].describe()\n",
    "homicidios['Crime Solved'].describe()\n",
    "homicidios['Victim Sex'].describe()\n",
    "homicidios['Victim Age'].describe()\n",
    "homicidios['Victim Race'].describe()\n",
    "homicidios['Victim Ethnicity'].describe()\n",
    "homicidios['Perpetrator Sex'].describe()\n",
    "homicidios['Perpetrator Age'].describe()\n",
    "homicidios['Perpetrator Race'].describe()\n",
    "homicidios['Perpetrator Ethnicity'].describe()\n",
    "homicidios['Relationship'].describe()\n",
    "homicidios['Weapon'].describe()\n",
    "homicidios['Victim Count'].describe()\n",
    "homicidios['Perpetrator Count'].describe()\n",
    "homicidios['Record Source'].describe()"
   ]
  },
  {
   "cell_type": "markdown",
   "metadata": {},
   "source": [
    "**Localización de los datos nulos en la base de datos:** Donde pudimos observar que la única columna que presenta datos nulos es “HDI for year”.\n",
    "\n",
    "- No se encontró columnas con datos nulos."
   ]
  },
  {
   "cell_type": "code",
   "execution_count": 3,
   "metadata": {},
   "outputs": [
    {
     "data": {
      "text/plain": [
       "Record ID                False\n",
       "Agency Code              False\n",
       "Agency Name              False\n",
       "Agency Type              False\n",
       "City                     False\n",
       "State                    False\n",
       "Year                     False\n",
       "Month                    False\n",
       "Incident                 False\n",
       "Crime Type               False\n",
       "Crime Solved             False\n",
       "Victim Sex               False\n",
       "Victim Age               False\n",
       "Victim Race              False\n",
       "Victim Ethnicity         False\n",
       "Perpetrator Sex          False\n",
       "Perpetrator Age          False\n",
       "Perpetrator Race         False\n",
       "Perpetrator Ethnicity    False\n",
       "Relationship             False\n",
       "Weapon                   False\n",
       "Victim Count             False\n",
       "Perpetrator Count        False\n",
       "Record Source            False\n",
       "dtype: bool"
      ]
     },
     "execution_count": 3,
     "metadata": {},
     "output_type": "execute_result"
    }
   ],
   "source": [
    "homicidios.isnull().any()"
   ]
  },
  {
   "cell_type": "markdown",
   "metadata": {},
   "source": [
    "**Eliminar columnas no deseadas:** Determinar cuáles columnas no son relevantes y eliminarlas del dataset ya que no se utilizarán.\n",
    "\n",
    "Se decidió eliminar las columnas 'Record ID','Agency Name','Agency Code','Victim Ethnicity','Perpetrator Ethnicity', 'Victim Count', 'Perpetrator Count' ya que la información no será relevante.\n",
    "\n",
    "- En la columna \"Record ID\" ya que solo están enumerados los datos desde el primer homicidio registrado hasta el último, nos parece irrelevante esta información.\n",
    "- Columna 'Agency Name' contiene el nombre de la agencia en la cual fue reportado el homicidio, por lo tanto, es irrelevante la información para nuestro análisis.\n",
    "- En 'Agency Code' aparece el código de la agencia, igualmente irrelevante para nosotros.\n",
    "- Columnas 'Victim Ethnicity' y 'Perpetrator Ethnicity' contiene la etnia de la víctima y del agresor, la mayoría de los datos son \"Unknown\", por lo tanto, no nos sirve la información en ambas columnas.\n",
    "- Columnas 'Victim Count' y 'Perpetrator Count' contiene información que no necesitamos para nuestro análisis.\n"
   ]
  },
  {
   "cell_type": "code",
   "execution_count": 4,
   "metadata": {},
   "outputs": [
    {
     "name": "stdout",
     "output_type": "stream",
     "text": [
      "['Agency Type', 'City', 'State', 'Year', 'Month', 'Incident', 'Crime Type', 'Crime Solved', 'Victim Sex', 'Victim Age', 'Victim Race', 'Perpetrator Sex', 'Perpetrator Age', 'Perpetrator Race', 'Relationship', 'Weapon', 'Record Source']\n"
     ]
    }
   ],
   "source": [
    "#Eliminando columnas \"record id\" \"agency code\"\n",
    "homicidios_limpieza=homicidios.drop(['Record ID','Agency Name','Agency Code','Victim Ethnicity','Perpetrator Ethnicity', 'Victim Count', 'Perpetrator Count'],axis = 1 )\n",
    "\n",
    "#Comprobando columnas eliminadas\n",
    "print(list(homicidios_limpieza.columns))"
   ]
  },
  {
   "cell_type": "markdown",
   "metadata": {},
   "source": [
    "**Modificación de las columnas:** Modificación en los datos dentro de las columnas para una fácil utilización de los datos.\n",
    "\n",
    "Pasos realizados en la modificación:\n",
    "- Se modificó la columna \"Perpetrator Age\" cambiando los 0's por \"Unknown\".\n",
    "\n",
    "Por último, se muestra la base de datos con la modificación realizada."
   ]
  },
  {
   "cell_type": "code",
   "execution_count": 5,
   "metadata": {},
   "outputs": [],
   "source": [
    "#remplazando los 0 por \"unknown\"\n",
    "cambio_datos=homicidios_limpieza['Perpetrator Age'].replace({0:\"Unknown\"})\n",
    "homicidios_limpieza=homicidios_limpieza.drop(['Perpetrator Age'],axis=1)\n",
    "\n",
    "#agregando los datos cambiados\n",
    "homicidios_limpieza.insert(10,'Perpetrator Age',cambio_datos)"
   ]
  },
  {
   "cell_type": "markdown",
   "metadata": {},
   "source": [
    "**Ordenamiento de datos:** Se decidió ordenar los datos por año y estos a su vez por meses "
   ]
  },
  {
   "cell_type": "code",
   "execution_count": 6,
   "metadata": {},
   "outputs": [],
   "source": [
    "homicidios_limpieza=homicidios_limpieza.sort_values(by=['Year','Month'])"
   ]
  },
  {
   "cell_type": "markdown",
   "metadata": {},
   "source": [
    "**Verificación final de los datos:** Observar la información básica de la tabla modificada así como verificar si aparece algún dato nulo. "
   ]
  },
  {
   "cell_type": "code",
   "execution_count": 7,
   "metadata": {},
   "outputs": [
    {
     "name": "stdout",
     "output_type": "stream",
     "text": [
      "<class 'pandas.core.frame.DataFrame'>\n",
      "Int64Index: 638454 entries, 3 to 638453\n",
      "Data columns (total 17 columns):\n",
      " #   Column            Non-Null Count   Dtype \n",
      "---  ------            --------------   ----- \n",
      " 0   Agency Type       638454 non-null  object\n",
      " 1   City              638454 non-null  object\n",
      " 2   State             638454 non-null  object\n",
      " 3   Year              638454 non-null  int64 \n",
      " 4   Month             638454 non-null  object\n",
      " 5   Incident          638454 non-null  int64 \n",
      " 6   Crime Type        638454 non-null  object\n",
      " 7   Crime Solved      638454 non-null  object\n",
      " 8   Victim Sex        638454 non-null  object\n",
      " 9   Victim Age        638454 non-null  int64 \n",
      " 10  Perpetrator Age   638454 non-null  object\n",
      " 11  Victim Race       638454 non-null  object\n",
      " 12  Perpetrator Sex   638454 non-null  object\n",
      " 13  Perpetrator Race  638454 non-null  object\n",
      " 14  Relationship      638454 non-null  object\n",
      " 15  Weapon            638454 non-null  object\n",
      " 16  Record Source     638454 non-null  object\n",
      "dtypes: int64(3), object(14)\n",
      "memory usage: 87.7+ MB\n"
     ]
    },
    {
     "data": {
      "text/plain": [
       "Agency Type         False\n",
       "City                False\n",
       "State               False\n",
       "Year                False\n",
       "Month               False\n",
       "Incident            False\n",
       "Crime Type          False\n",
       "Crime Solved        False\n",
       "Victim Sex          False\n",
       "Victim Age          False\n",
       "Perpetrator Age     False\n",
       "Victim Race         False\n",
       "Perpetrator Sex     False\n",
       "Perpetrator Race    False\n",
       "Relationship        False\n",
       "Weapon              False\n",
       "Record Source       False\n",
       "dtype: bool"
      ]
     },
     "execution_count": 7,
     "metadata": {},
     "output_type": "execute_result"
    }
   ],
   "source": [
    "homicidios_limpieza.info()\n",
    "\n",
    "homicidios_limpieza.isnull().any()"
   ]
  },
  {
   "cell_type": "markdown",
   "metadata": {},
   "source": [
    "**Crear nuevo archivo con la base de datos editada:** Creación del nuevo documento modificado."
   ]
  },
  {
   "cell_type": "code",
   "execution_count": 8,
   "metadata": {},
   "outputs": [
    {
     "name": "stdout",
     "output_type": "stream",
     "text": [
      "             Agency Type        City          State  Year      Month  \\\n",
      "3       Municipal Police   Anchorage         Alaska  1980      April   \n",
      "4       Municipal Police   Anchorage         Alaska  1980      April   \n",
      "29          State Police      Juneau         Alaska  1980      April   \n",
      "49               Sheriff   Jefferson        Alabama  1980      April   \n",
      "65      Municipal Police   Jefferson        Alabama  1980      April   \n",
      "...                  ...         ...            ...   ...        ...   \n",
      "638404           Sheriff     Mineral  West Virginia  2014  September   \n",
      "638423      State Police     Raleigh  West Virginia  2014  September   \n",
      "638446           Sheriff     Natrona        Wyoming  2014  September   \n",
      "638451  Municipal Police    Sheridan        Wyoming  2014  September   \n",
      "638453  Municipal Police  Sweetwater        Wyoming  2014  September   \n",
      "\n",
      "        Incident              Crime Type Crime Solved Victim Sex  Victim Age  \\\n",
      "3              1  Murder or Manslaughter          Yes       Male          43   \n",
      "4              2  Murder or Manslaughter           No     Female          30   \n",
      "29             1  Murder or Manslaughter          Yes       Male          18   \n",
      "49             1  Murder or Manslaughter          Yes       Male          26   \n",
      "65             1  Murder or Manslaughter          Yes       Male          26   \n",
      "...          ...                     ...          ...        ...         ...   \n",
      "638404         1  Murder or Manslaughter          Yes     Female          57   \n",
      "638423         1  Murder or Manslaughter          Yes     Female          41   \n",
      "638446         1  Murder or Manslaughter          Yes     Female          76   \n",
      "638451         1  Murder or Manslaughter          Yes     Female           0   \n",
      "638453         1  Murder or Manslaughter          Yes     Female           0   \n",
      "\n",
      "       Perpetrator Age                    Victim Race Perpetrator Sex  \\\n",
      "3                   42                          White            Male   \n",
      "4              Unknown  Native American/Alaska Native         Unknown   \n",
      "29                  61                        Unknown            Male   \n",
      "49                  66                          Black            Male   \n",
      "65                  24                          Black          Female   \n",
      "...                ...                            ...             ...   \n",
      "638404              57                          White            Male   \n",
      "638423              60                          Black            Male   \n",
      "638446              48                          White            Male   \n",
      "638451              22         Asian/Pacific Islander          Female   \n",
      "638453              24                          White          Female   \n",
      "\n",
      "                     Perpetrator Race  Relationship         Weapon  \\\n",
      "3                               White  Acquaintance  Strangulation   \n",
      "4                             Unknown       Unknown        Unknown   \n",
      "29      Native American/Alaska Native       Unknown        Shotgun   \n",
      "49                              Black  Acquaintance        Handgun   \n",
      "65                              Black       Husband        Handgun   \n",
      "...                               ...           ...            ...   \n",
      "638404                          White          Wife        Handgun   \n",
      "638423                          White          Wife        Shotgun   \n",
      "638446                          White        Mother        Handgun   \n",
      "638451         Asian/Pacific Islander      Daughter    Suffocation   \n",
      "638453                          White      Daughter   Blunt Object   \n",
      "\n",
      "       Record Source  \n",
      "3                FBI  \n",
      "4                FBI  \n",
      "29               FBI  \n",
      "49               FBI  \n",
      "65               FBI  \n",
      "...              ...  \n",
      "638404           FBI  \n",
      "638423           FBI  \n",
      "638446           FBI  \n",
      "638451           FBI  \n",
      "638453           FBI  \n",
      "\n",
      "[638454 rows x 17 columns]\n"
     ]
    }
   ],
   "source": [
    "#Creando archivo nuevo modificado\n",
    "homicidios_limpieza.to_csv('homicidios_limpieza.csv', header = False, index = False)\n",
    "\n",
    "#Visualización de la base de datos\n",
    "print(homicidios_limpieza)"
   ]
  }
 ],
 "metadata": {
  "kernelspec": {
   "display_name": "Python 3",
   "language": "python",
   "name": "python3"
  },
  "language_info": {
   "codemirror_mode": {
    "name": "ipython",
    "version": 3
   },
   "file_extension": ".py",
   "mimetype": "text/x-python",
   "name": "python",
   "nbconvert_exporter": "python",
   "pygments_lexer": "ipython3",
   "version": "3.8.5"
  }
 },
 "nbformat": 4,
 "nbformat_minor": 4
}
