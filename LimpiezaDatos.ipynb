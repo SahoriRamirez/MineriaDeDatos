{
 "cells": [
  {
   "cell_type": "markdown",
   "metadata": {},
   "source": [
    "# Limpieza de Datos\n",
    "### Suicide Rates Overview 1985 to 2016\n",
    "\n",
    "https://www.kaggle.com/russellyates88/suicide-rates-overview-1985-to-2016\n",
    "\n",
    "###### Equipo: 04"
   ]
  },
  {
   "cell_type": "markdown",
   "metadata": {},
   "source": [
    "**Datos sin manipulación:**"
   ]
  },
  {
   "cell_type": "code",
   "execution_count": 2,
   "metadata": {},
   "outputs": [
    {
     "name": "stdout",
     "output_type": "stream",
     "text": [
      "          country  year     sex          age  suicides_no  population  \\\n",
      "0         Albania  1987    male  15-24 years           21      312900   \n",
      "1         Albania  1987    male  35-54 years           16      308000   \n",
      "2         Albania  1987  female  15-24 years           14      289700   \n",
      "3         Albania  1987    male    75+ years            1       21800   \n",
      "4         Albania  1987    male  25-34 years            9      274300   \n",
      "...           ...   ...     ...          ...          ...         ...   \n",
      "27815  Uzbekistan  2014  female  35-54 years          107     3620833   \n",
      "27816  Uzbekistan  2014  female    75+ years            9      348465   \n",
      "27817  Uzbekistan  2014    male   5-14 years           60     2762158   \n",
      "27818  Uzbekistan  2014  female   5-14 years           44     2631600   \n",
      "27819  Uzbekistan  2014  female  55-74 years           21     1438935   \n",
      "\n",
      "       suicides/100k pop    country-year  HDI for year   gdp_for_year ($)   \\\n",
      "0                   6.71     Albania1987           NaN          2156624900   \n",
      "1                   5.19     Albania1987           NaN          2156624900   \n",
      "2                   4.83     Albania1987           NaN          2156624900   \n",
      "3                   4.59     Albania1987           NaN          2156624900   \n",
      "4                   3.28     Albania1987           NaN          2156624900   \n",
      "...                  ...             ...           ...                 ...   \n",
      "27815               2.96  Uzbekistan2014         0.675         63067077179   \n",
      "27816               2.58  Uzbekistan2014         0.675         63067077179   \n",
      "27817               2.17  Uzbekistan2014         0.675         63067077179   \n",
      "27818               1.67  Uzbekistan2014         0.675         63067077179   \n",
      "27819               1.46  Uzbekistan2014         0.675         63067077179   \n",
      "\n",
      "       gdp_per_capita ($)       generation  \n",
      "0                     796     Generation X  \n",
      "1                     796           Silent  \n",
      "2                     796     Generation X  \n",
      "3                     796  G.I. Generation  \n",
      "4                     796          Boomers  \n",
      "...                   ...              ...  \n",
      "27815                2309     Generation X  \n",
      "27816                2309           Silent  \n",
      "27817                2309     Generation Z  \n",
      "27818                2309     Generation Z  \n",
      "27819                2309          Boomers  \n",
      "\n",
      "[27820 rows x 12 columns]\n"
     ]
    }
   ],
   "source": [
    "import pandas as pd\n",
    "import numpy as np\n",
    "\n",
    "#Para acceder al dataset,cambiar la url \n",
    "suicidios=pd.read_excel(\"C:/Users/almag/Documents/7mo Semestre/Minería de Datos/master.xlsx\")\n",
    "print(suicidios)"
   ]
  },
  {
   "cell_type": "markdown",
   "metadata": {},
   "source": [
    "**Información básica de cada una de las columnas:**"
   ]
  },
  {
   "cell_type": "code",
   "execution_count": 3,
   "metadata": {},
   "outputs": [
    {
     "name": "stdout",
     "output_type": "stream",
     "text": [
      "<class 'pandas.core.frame.DataFrame'>\n",
      "RangeIndex: 27820 entries, 0 to 27819\n",
      "Data columns (total 12 columns):\n",
      " #   Column              Non-Null Count  Dtype  \n",
      "---  ------              --------------  -----  \n",
      " 0   country             27820 non-null  object \n",
      " 1   year                27820 non-null  int64  \n",
      " 2   sex                 27820 non-null  object \n",
      " 3   age                 27820 non-null  object \n",
      " 4   suicides_no         27820 non-null  int64  \n",
      " 5   population          27820 non-null  int64  \n",
      " 6   suicides/100k pop   27820 non-null  float64\n",
      " 7   country-year        27820 non-null  object \n",
      " 8   HDI for year        8364 non-null   float64\n",
      " 9    gdp_for_year ($)   27820 non-null  int64  \n",
      " 10  gdp_per_capita ($)  27820 non-null  int64  \n",
      " 11  generation          27820 non-null  object \n",
      "dtypes: float64(2), int64(5), object(5)\n",
      "memory usage: 2.5+ MB\n"
     ]
    },
    {
     "data": {
      "text/plain": [
       "count            27820\n",
       "unique               6\n",
       "top       Generation X\n",
       "freq              6408\n",
       "Name: generation, dtype: object"
      ]
     },
     "execution_count": 3,
     "metadata": {},
     "output_type": "execute_result"
    }
   ],
   "source": [
    "#La información muestra: La cantidad de memoria que usa la base de datos,Cuenta de los datos, promedio, tipo de datos, frecuencia, cuartiles, entre otros.\n",
    "suicidios.info()\n",
    "suicidios['country'].describe()\n",
    "suicidios['year'].describe()\n",
    "suicidios['sex'].describe()\n",
    "suicidios['age'].describe()\n",
    "suicidios['suicides_no'].describe()\n",
    "suicidios['population'].describe()\n",
    "suicidios['suicides/100k pop'].describe()\n",
    "suicidios['country-year'].describe()\n",
    "suicidios['HDI for year'].describe()\n",
    "suicidios[' gdp_for_year ($) '].describe()\n",
    "suicidios['gdp_per_capita ($)'].describe()\n",
    "suicidios['generation'].describe()"
   ]
  },
  {
   "cell_type": "markdown",
   "metadata": {},
   "source": [
    "**Localización de los datos nulos en la base de datos.**"
   ]
  },
  {
   "cell_type": "code",
   "execution_count": 6,
   "metadata": {},
   "outputs": [
    {
     "data": {
      "text/plain": [
       "country               False\n",
       "year                  False\n",
       "sex                   False\n",
       "age                   False\n",
       "suicides_no           False\n",
       "population            False\n",
       "suicides/100k pop     False\n",
       "country-year          False\n",
       "HDI for year           True\n",
       " gdp_for_year ($)     False\n",
       "gdp_per_capita ($)    False\n",
       "generation            False\n",
       "dtype: bool"
      ]
     },
     "execution_count": 6,
     "metadata": {},
     "output_type": "execute_result"
    }
   ],
   "source": [
    "suicidios.isnull().any()\n",
    "\n",
    "#La única columna que presenta datos nulos es “HDI for year”"
   ]
  },
  {
   "cell_type": "markdown",
   "metadata": {},
   "source": [
    "**Eliminar columnas no deseadas:**"
   ]
  },
  {
   "cell_type": "code",
   "execution_count": 7,
   "metadata": {},
   "outputs": [
    {
     "name": "stdout",
     "output_type": "stream",
     "text": [
      "          country  year     sex  suicides_no  population  suicides/100k pop  \\\n",
      "0         Albania  1987    male           21      312900               6.71   \n",
      "1         Albania  1987    male           16      308000               5.19   \n",
      "2         Albania  1987  female           14      289700               4.83   \n",
      "3         Albania  1987    male            1       21800               4.59   \n",
      "4         Albania  1987    male            9      274300               3.28   \n",
      "...           ...   ...     ...          ...         ...                ...   \n",
      "27815  Uzbekistan  2014  female          107     3620833               2.96   \n",
      "27816  Uzbekistan  2014  female            9      348465               2.58   \n",
      "27817  Uzbekistan  2014    male           60     2762158               2.17   \n",
      "27818  Uzbekistan  2014  female           44     2631600               1.67   \n",
      "27819  Uzbekistan  2014  female           21     1438935               1.46   \n",
      "\n",
      "        gdp_for_year ($)        generation  \n",
      "0              2156624900     Generation X  \n",
      "1              2156624900           Silent  \n",
      "2              2156624900     Generation X  \n",
      "3              2156624900  G.I. Generation  \n",
      "4              2156624900          Boomers  \n",
      "...                   ...              ...  \n",
      "27815         63067077179     Generation X  \n",
      "27816         63067077179           Silent  \n",
      "27817         63067077179     Generation Z  \n",
      "27818         63067077179     Generation Z  \n",
      "27819         63067077179          Boomers  \n",
      "\n",
      "[27820 rows x 8 columns]\n"
     ]
    }
   ],
   "source": [
    "#Se eliminarán las columnas \"country-year\",\"HDI for year\", \"gdp_per_capita($)\" ya que la información no será relevante\n",
    "#La columna \"country-year\" es una concatenación de las primeras 2 columnas, en tal caso, nos parece irrelevante.\n",
    "#Columna \"HDI for year\" contiene muchos datos nulos sobre el indice de desarrollo humano, por lo tanto, la eliminamos.\n",
    "#Columna \"gdp_per_capita($)\", utilizaremos unicamente la información en \"gdp_for_years($)\" que es información del PIB por años\n",
    "#Columna \"age\" eliminada para modificar la información dentro \n",
    "suicidios_limpieza=suicidios.drop(['country-year','HDI for year','gdp_per_capita ($)','age'],axis = 1 )\n",
    "\n",
    "#Visualización de la base de datos sin las columnas\n",
    "print(suicidios_limpieza)\n"
   ]
  },
  {
   "cell_type": "markdown",
   "metadata": {},
   "source": [
    "**Modificación de las columnas:**"
   ]
  },
  {
   "cell_type": "code",
   "execution_count": 14,
   "metadata": {},
   "outputs": [
    {
     "name": "stdout",
     "output_type": "stream",
     "text": [
      "          country  year     sex  suicides_no     age  population  \\\n",
      "0         Albania  1987    male           21  15-24       312900   \n",
      "1         Albania  1987    male           16  35-54       308000   \n",
      "2         Albania  1987  female           14  15-24       289700   \n",
      "3         Albania  1987    male            1    75+        21800   \n",
      "4         Albania  1987    male            9  25-34       274300   \n",
      "...           ...   ...     ...          ...     ...         ...   \n",
      "27815  Uzbekistan  2014  female          107  35-54      3620833   \n",
      "27816  Uzbekistan  2014  female            9    75+       348465   \n",
      "27817  Uzbekistan  2014    male           60   5-14      2762158   \n",
      "27818  Uzbekistan  2014  female           44   5-14      2631600   \n",
      "27819  Uzbekistan  2014  female           21  55-74      1438935   \n",
      "\n",
      "       suicides/100k pop   gdp_for_year ($)        generation  \n",
      "0                   6.71          2156624900     Generation X  \n",
      "1                   5.19          2156624900           Silent  \n",
      "2                   4.83          2156624900     Generation X  \n",
      "3                   4.59          2156624900  G.I. Generation  \n",
      "4                   3.28          2156624900          Boomers  \n",
      "...                  ...                 ...              ...  \n",
      "27815               2.96         63067077179     Generation X  \n",
      "27816               2.58         63067077179           Silent  \n",
      "27817               2.17         63067077179     Generation Z  \n",
      "27818               1.67         63067077179     Generation Z  \n",
      "27819               1.46         63067077179          Boomers  \n",
      "\n",
      "[27820 rows x 9 columns]\n"
     ]
    }
   ],
   "source": [
    "#Modificación de la columna \"age\", eliminando la palabra \"years\" para evitar el repetir las palabras\n",
    "letras_eliminados=suicidios['age'].str.replace('years','')\n",
    "\n",
    "#Se agregan los datos sin la palabra \"years\"\n",
    "suicidios_limpieza.insert(4,'age',letras_eliminados)\n",
    "\n",
    "#Visualización de la base de datos mostrando la modificación\n",
    "print(suicidios_limpieza)\n"
   ]
  },
  {
   "cell_type": "markdown",
   "metadata": {},
   "source": [
    "**Cambio de Nombre:**"
   ]
  },
  {
   "cell_type": "code",
   "execution_count": 16,
   "metadata": {},
   "outputs": [
    {
     "data": {
      "text/plain": [
       "['PAIS',\n",
       " 'AÑO',\n",
       " 'SEXO',\n",
       " 'EDAD',\n",
       " 'NUM_SUICIDIOS',\n",
       " 'POBLACION',\n",
       " 'SUICIDIOS POR CADA 100K',\n",
       " 'PIB',\n",
       " 'GENERACION']"
      ]
     },
     "execution_count": 16,
     "metadata": {},
     "output_type": "execute_result"
    }
   ],
   "source": [
    "#Cambio de nombre de las columnas para mejor manipulación de datos\n",
    "suicidios_limpieza=suicidios_limpieza.set_axis(['PAIS', 'AÑO', 'SEXO','EDAD','NUM_SUICIDIOS','POBLACION','SUICIDIOS POR CADA 100K','PIB','GENERACION'], axis='columns', inplace=False)\n",
    "#Actualización del nombre de las columnas\n",
    "list(suicidios_limpieza.columns)"
   ]
  },
  {
   "cell_type": "markdown",
   "metadata": {},
   "source": [
    "**Ordenamiento de datos:**"
   ]
  },
  {
   "cell_type": "code",
   "execution_count": 17,
   "metadata": {},
   "outputs": [],
   "source": [
    " #----ORDENANDO LOS DATOS POR AÑO Y ESTOS A SU VEZ ORDENADOS POR EDAD Y SEXO  \n",
    "suicidios_limpieza=suicidios_limpieza.sort_values(by=['AÑO','EDAD','SEXO'])"
   ]
  },
  {
   "cell_type": "markdown",
   "metadata": {},
   "source": [
    "**Crear nuevo archivo con la base de datos editada:**"
   ]
  },
  {
   "cell_type": "code",
   "execution_count": 18,
   "metadata": {},
   "outputs": [
    {
     "name": "stdout",
     "output_type": "stream",
     "text": [
      "                      PAIS   AÑO    SEXO  EDAD NUM_SUICIDIOS  POBLACION  \\\n",
      "264    Antigua and Barbuda  1985  female     0        15-24        7709   \n",
      "265    Antigua and Barbuda  1985  female     0        25-34        6344   \n",
      "266    Antigua and Barbuda  1985  female     0        35-54        6173   \n",
      "267    Antigua and Barbuda  1985  female     0         5-14        7339   \n",
      "268    Antigua and Barbuda  1985  female     0        55-74        3778   \n",
      "...                    ...   ...     ...   ...           ...        ...   \n",
      "20926              Romania  2016    male   615        55-74     2068747   \n",
      "20928              Romania  2016    male   632        35-54     2945568   \n",
      "25305             Thailand  2016    male   646        25-34     4796355   \n",
      "25302             Thailand  2016    male   734        55-74     5203957   \n",
      "25303             Thailand  2016    male  1421        35-54    10084647   \n",
      "\n",
      "       SUICIDIOS POR CADA 100K           PIB       GENERACION  \n",
      "264                       0.00     240923926     Generation X  \n",
      "265                       0.00     240923926          Boomers  \n",
      "266                       0.00     240923926           Silent  \n",
      "267                       0.00     240923926     Generation X  \n",
      "268                       0.00     240923926  G.I. Generation  \n",
      "...                        ...           ...              ...  \n",
      "20926                    29.73  187805922349          Boomers  \n",
      "20928                    21.46  187805922349     Generation X  \n",
      "25305                    13.47  411755164833       Millenials  \n",
      "25302                    14.10  411755164833          Boomers  \n",
      "25303                    14.09  411755164833     Generation X  \n",
      "\n",
      "[27820 rows x 9 columns]\n"
     ]
    }
   ],
   "source": [
    "#Creación del nuevo documento modificado\n",
    "suicidios_limpieza.to_csv('suicidios-limpieza.csv', header = False, index = False)\n",
    "\n",
    "#Visualización de la base de datos sin las columnas\n",
    "print(suicidios_limpieza)"
   ]
  },
  {
   "cell_type": "markdown",
   "metadata": {},
   "source": [
    "## EXTRA\n",
    "###### Comandos extras utilizados\n",
    "Gracias a que en la programación existen tantas comandos y librerías, no es difícil encontrar una como Pandas. Pandas es una biblioteca de software escrita como extensión de NumPy para manipulación y análisis de datos para el lenguaje de programación Python que nos ofrece herramientas que nos permiten manejar con mayor facilidad los datos con los que se requiere trabajar, dejando a disponibilidad comandos con los que podremos analizar los comportamientos que se tiene, poder realizar predicciones en base a los datos, nos ayuda a visualizar mejor si algunos datos son o no útiles, entre otras opciones que nos podrán ayudar dependiendo de lo que necesitemos\n",
    "\n",
    "- **info:** Este comando imprime información sobre un DataFrame, incluido el tipo de índice y las columnas, los valores no nulos y el uso de la memoria, básicamente nos da los detalles sobre este DataFrame, de esta manera tendremos como una previa hacia los datos que se estarán tratando, esto puede llegar a servir a manera de filtro para saber si hay algo que está erróneo o si hay algo con lo que no queramos trabajar.\n",
    "\n",
    "- **describe:** Genera estadísticas descriptivas, estas incluyen aquellas que resumen la tendencia central, la dispersión y la forma de la distribución de un conjunto de datos, excluyendo los valores de NaN. Analiza series numéricas y de objetos, así como conjuntos de columnas DataFrame de tipos de datos mixtos. La salida variará según lo que se proporcione. \n",
    "\n",
    "- **sort axis:** Ordenar objeto por etiquetas (a lo largo de un eje), habrá ocasiones en las que necesitaremos ordenar el objeto, esto nos puede dar una mejor perspectiva de lo que se está trabajando. \n",
    "\n",
    "- **sort values:** Ordene por los valores a lo largo de cada eje, dependiendo con los datos que estemos manejando esto nos podrá ayudar para tener mejor visualización de los datos.\n",
    "\n",
    "- **to_csv:** Escribe el objeto en un archivo de valores separados por comas (csv), si por algún motivo necesitamos cambiar un objeto a este tipo de extensión. \n"
   ]
  },
  {
   "cell_type": "markdown",
   "metadata": {},
   "source": [
    "#### INVESTIGACIÓN DE COMANDOS\n",
    "##### df.astype()\n",
    "Es una función de Pandas que cambia el tipo de datos de los objetos a un tipo de datos especificado.\n",
    "\n",
    "    Forma: DataFrame.astype(dtype, copy=True, errors='raise')\n",
    "\n",
    "Parámetros\n",
    "- **Dtype:** Tipo de datos que queremos asignar a nuestro objeto.\n",
    "- **Copy:** Un parámetro booleano. Devuelve una copia cuando True.\n",
    "- **Errors:** Controla el lanzamiento de excepciones sobre datos no válidos para el tipo de datos proporcionado.\n",
    "\n",
    "    Tiene dos opciones.\n",
    "    - Raise: permite que se levanten las excepciones.\n",
    "    - Ignore: suprime las excepciones. Si existe un error, entonces devuelve el objeto original.\n",
    "\n",
    "##### df.dropna()\n",
    "Es una función de Pandas que elimina los valores nulos (valores perdidos) del DataFrame dejando caer las filas o columnas que contienen los valores nulos.\n",
    "    \n",
    "En donde: **NaN** (no un número) y **NaT** (no un tiempo) representan los valores nulos. DataFrame.dropna() detecta estos valores y filtra el DataFrame en consecuencia.\n",
    "    \n",
    "    Forma:DataFrame.dropna(axis, how, thresh, subset, inplace)\n",
    "\n",
    "Parámetros\n",
    "- **Axis:** Determina que el eje sea de fila o de columna.\n",
    "Si es 0 o “índice”, entonces deja caer las filas que contienen valores perdidos.\n",
    "Si es 1 o columns, entonces deja caer las columnas que contienen los valores perdidos. Por defecto, su valor es 0.\n",
    "- **How:** Este parámetro determina la forma en que la función deja caer las filas o columnas. Sólo acepta dos cadenas de caracteres, ya sea any o all. Por defecto, se establece como any.\n",
    "    - any: deja caer la fila o columna si hay algún valor nulo en ella.\n",
    "    - all: deja caer la fila o columna si faltan todos los valores en ella.\n",
    "\n",
    "- **Thresh:** Es un número entero que especifica el menor número de valores que no falten que impiden que las filas o columnas caigan.\n",
    "- **Subset:** Es una matriz que tiene los nombres de las filas o columnas para especificar el procedimiento de caída.\n",
    "\n",
    "- **Inplace:** Es un valor booleano que cambia la llamada DataFrame si se establece como True. Por defecto, su valor es False.\n"
   ]
  }
 ],
 "metadata": {
  "kernelspec": {
   "display_name": "Python 3",
   "language": "python",
   "name": "python3"
  },
  "language_info": {
   "codemirror_mode": {
    "name": "ipython",
    "version": 3
   },
   "file_extension": ".py",
   "mimetype": "text/x-python",
   "name": "python",
   "nbconvert_exporter": "python",
   "pygments_lexer": "ipython3",
   "version": "3.8.5"
  }
 },
 "nbformat": 4,
 "nbformat_minor": 4
}
