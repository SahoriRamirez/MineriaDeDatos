{
 "cells": [
  {
   "cell_type": "markdown",
   "metadata": {},
   "source": [
    "# Limpieza de Datos\n",
    "### Suicide Rates Overview 1985 to 2016\n",
    "\n",
    "https://www.kaggle.com/russellyates88/suicide-rates-overview-1985-to-2016\n",
    "\n",
    "###### Equipo: 04"
   ]
  },
  {
   "cell_type": "markdown",
   "metadata": {},
   "source": [
    "**Datos sin manipulación**"
   ]
  },
  {
   "cell_type": "code",
   "execution_count": 2,
   "metadata": {},
   "outputs": [],
   "source": [
    "import pandas as pd\n",
    "import numpy as np\n",
    "\n",
    "#Para acceder al dataset,cambiar la url \n",
    "suicidios=pd.read_excel(\"C:/Users/almag/Documents/7mo Semestre/Minería de Datos/master.xlsx\")"
   ]
  },
  {
   "cell_type": "markdown",
   "metadata": {},
   "source": [
    "**Información básica de cada una de las columnas:**"
   ]
  },
  {
   "cell_type": "code",
   "execution_count": 3,
   "metadata": {},
   "outputs": [
    {
     "name": "stdout",
     "output_type": "stream",
     "text": [
      "<class 'pandas.core.frame.DataFrame'>\n",
      "RangeIndex: 27820 entries, 0 to 27819\n",
      "Data columns (total 12 columns):\n",
      " #   Column              Non-Null Count  Dtype  \n",
      "---  ------              --------------  -----  \n",
      " 0   country             27820 non-null  object \n",
      " 1   year                27820 non-null  int64  \n",
      " 2   sex                 27820 non-null  object \n",
      " 3   age                 27820 non-null  object \n",
      " 4   suicides_no         27820 non-null  int64  \n",
      " 5   population          27820 non-null  int64  \n",
      " 6   suicides/100k pop   27820 non-null  float64\n",
      " 7   country-year        27820 non-null  object \n",
      " 8   HDI for year        8364 non-null   float64\n",
      " 9    gdp_for_year ($)   27820 non-null  int64  \n",
      " 10  gdp_per_capita ($)  27820 non-null  int64  \n",
      " 11  generation          27820 non-null  object \n",
      "dtypes: float64(2), int64(5), object(5)\n",
      "memory usage: 2.5+ MB\n"
     ]
    },
    {
     "data": {
      "text/plain": [
       "count            27820\n",
       "unique               6\n",
       "top       Generation X\n",
       "freq              6408\n",
       "Name: generation, dtype: object"
      ]
     },
     "execution_count": 3,
     "metadata": {},
     "output_type": "execute_result"
    }
   ],
   "source": [
    "#La información muestra: Cuenta de los datos, promedio, tipo de datos, frecuencia, cuartiles, entre otros.\n",
    "suicidios.info()\n",
    "suicidios['country'].describe()\n",
    "suicidios['year'].describe()\n",
    "suicidios['sex'].describe()\n",
    "suicidios['age'].describe()\n",
    "suicidios['suicides_no'].describe()\n",
    "suicidios['population'].describe()\n",
    "suicidios['suicides/100k pop'].describe()\n",
    "suicidios['country-year'].describe()\n",
    "suicidios['HDI for year'].describe()\n",
    "suicidios[' gdp_for_year ($) '].describe()\n",
    "suicidios['gdp_per_capita ($)'].describe()\n",
    "suicidios['generation'].describe()"
   ]
  },
  {
   "cell_type": "markdown",
   "metadata": {},
   "source": [
    "**Localización de los datos nulos en la base de datos.**"
   ]
  },
  {
   "cell_type": "code",
   "execution_count": 4,
   "metadata": {},
   "outputs": [
    {
     "data": {
      "text/plain": [
       "country               False\n",
       "year                  False\n",
       "sex                   False\n",
       "age                   False\n",
       "suicides_no           False\n",
       "population            False\n",
       "suicides/100k pop     False\n",
       "country-year          False\n",
       "HDI for year           True\n",
       " gdp_for_year ($)     False\n",
       "gdp_per_capita ($)    False\n",
       "generation            False\n",
       "dtype: bool"
      ]
     },
     "execution_count": 4,
     "metadata": {},
     "output_type": "execute_result"
    }
   ],
   "source": [
    "suicidios.isnull().any()\n",
    "\n",
    "#La única columna que presenta datos nulos es “HDI for year”"
   ]
  },
  {
   "cell_type": "markdown",
   "metadata": {},
   "source": [
    "**Eliminar columnas no deseadas:**"
   ]
  },
  {
   "cell_type": "code",
   "execution_count": 5,
   "metadata": {},
   "outputs": [
    {
     "name": "stdout",
     "output_type": "stream",
     "text": [
      "          country  year     sex  suicides_no  population  suicides/100k pop  \\\n",
      "0         Albania  1987    male           21      312900               6.71   \n",
      "1         Albania  1987    male           16      308000               5.19   \n",
      "2         Albania  1987  female           14      289700               4.83   \n",
      "3         Albania  1987    male            1       21800               4.59   \n",
      "4         Albania  1987    male            9      274300               3.28   \n",
      "...           ...   ...     ...          ...         ...                ...   \n",
      "27815  Uzbekistan  2014  female          107     3620833               2.96   \n",
      "27816  Uzbekistan  2014  female            9      348465               2.58   \n",
      "27817  Uzbekistan  2014    male           60     2762158               2.17   \n",
      "27818  Uzbekistan  2014  female           44     2631600               1.67   \n",
      "27819  Uzbekistan  2014  female           21     1438935               1.46   \n",
      "\n",
      "        gdp_for_year ($)        generation  \n",
      "0              2156624900     Generation X  \n",
      "1              2156624900           Silent  \n",
      "2              2156624900     Generation X  \n",
      "3              2156624900  G.I. Generation  \n",
      "4              2156624900          Boomers  \n",
      "...                   ...              ...  \n",
      "27815         63067077179     Generation X  \n",
      "27816         63067077179           Silent  \n",
      "27817         63067077179     Generation Z  \n",
      "27818         63067077179     Generation Z  \n",
      "27819         63067077179          Boomers  \n",
      "\n",
      "[27820 rows x 8 columns]\n"
     ]
    }
   ],
   "source": [
    "#Se eliminarán las columnas \"country-year\",\"HDI for year\", \"gdp_per_capita($)\" ya que la información no será irelevante\n",
    "#La columna \"country-year\" es una concatenación de las primeras 2 columnas, en tal caso, nos parece irrelevante.\n",
    "#Columna \"HDI for year\" contiene muchos datos nulos sobre el indice de desarrollo humano, por lo tanto, la eliminamos.\n",
    "#Columna \"gdp_per_capita($)\", utilizaremos unicamente la información en \"gdp_for_years($)\" que es información del PIB por años\n",
    "#Columna \"age\" eliminada para modificar la información dentro \n",
    "suicidios_limpieza=suicidios.drop(['country-year','HDI for year','gdp_per_capita ($)','age'],axis = 1 )\n",
    "\n",
    "#Visualización de la base de datos sin las columnas\n",
    "print(suicidios_limpieza)\n",
    "\n",
    "#Modificación de la columna \"age\", eliminando la palabra \"years\" para evitar el repetir las palabras\n",
    "letras_eliminados=suicidios['age'].str.replace('years','')\n",
    "\n",
    "#Se agregan los datos sin la palabra \"years\"\n",
    "suicidios_limpieza.insert(4,'age',letras_eliminados)"
   ]
  },
  {
   "cell_type": "markdown",
   "metadata": {},
   "source": [
    "**Crear nuevo archivo con la base de datos editada:**"
   ]
  },
  {
   "cell_type": "code",
   "execution_count": 9,
   "metadata": {},
   "outputs": [
    {
     "name": "stdout",
     "output_type": "stream",
     "text": [
      "          country  year     sex  suicides_no     age  population  \\\n",
      "0         Albania  1987    male           21  15-24       312900   \n",
      "1         Albania  1987    male           16  35-54       308000   \n",
      "2         Albania  1987  female           14  15-24       289700   \n",
      "3         Albania  1987    male            1    75+        21800   \n",
      "4         Albania  1987    male            9  25-34       274300   \n",
      "...           ...   ...     ...          ...     ...         ...   \n",
      "27815  Uzbekistan  2014  female          107  35-54      3620833   \n",
      "27816  Uzbekistan  2014  female            9    75+       348465   \n",
      "27817  Uzbekistan  2014    male           60   5-14      2762158   \n",
      "27818  Uzbekistan  2014  female           44   5-14      2631600   \n",
      "27819  Uzbekistan  2014  female           21  55-74      1438935   \n",
      "\n",
      "       suicides/100k pop   gdp_for_year ($)        generation  \n",
      "0                   6.71          2156624900     Generation X  \n",
      "1                   5.19          2156624900           Silent  \n",
      "2                   4.83          2156624900     Generation X  \n",
      "3                   4.59          2156624900  G.I. Generation  \n",
      "4                   3.28          2156624900          Boomers  \n",
      "...                  ...                 ...              ...  \n",
      "27815               2.96         63067077179     Generation X  \n",
      "27816               2.58         63067077179           Silent  \n",
      "27817               2.17         63067077179     Generation Z  \n",
      "27818               1.67         63067077179     Generation Z  \n",
      "27819               1.46         63067077179          Boomers  \n",
      "\n",
      "[27820 rows x 9 columns]\n"
     ]
    }
   ],
   "source": [
    "#Creación del nuevo documento modificado\n",
    "suicidios_limpieza.to_csv('suicidios-limpieza.csv', header = False, index = False)\n",
    "\n",
    "#Visualización de la base de datos sin las columnas\n",
    "print(suicidios_limpieza)"
   ]
  }
 ],
 "metadata": {
  "kernelspec": {
   "display_name": "Python 3",
   "language": "python",
   "name": "python3"
  },
  "language_info": {
   "codemirror_mode": {
    "name": "ipython",
    "version": 3
   },
   "file_extension": ".py",
   "mimetype": "text/x-python",
   "name": "python",
   "nbconvert_exporter": "python",
   "pygments_lexer": "ipython3",
   "version": "3.8.5"
  }
 },
 "nbformat": 4,
 "nbformat_minor": 4
}
