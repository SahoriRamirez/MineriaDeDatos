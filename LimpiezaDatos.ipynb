{
 "cells": [
  {
   "cell_type": "markdown",
   "metadata": {},
   "source": [
    "# Limpieza de Datos\n",
    "### Suicide Rates Overview 1985 to 2016\n",
    "\n",
    "https://www.kaggle.com/russellyates88/suicide-rates-overview-1985-to-2016\n",
    "\n",
    "###### Equipo: 04"
   ]
  },
  {
   "cell_type": "markdown",
   "metadata": {},
   "source": [
    "**Datos sin manipulación**"
   ]
  },
  {
   "cell_type": "code",
   "execution_count": null,
   "metadata": {},
   "outputs": [],
   "source": [
    "import pandas as pd\n",
    "import numpy as np\n",
    "\n",
    "#Para acceder al dataset,cambiar la url \n",
    "suicidios=pd.read_csv(\"C:\\Users\\almag\\Documents\\7mo Semestre\\Minería de Datos\\\\master.csv\")"
   ]
  },
  {
   "cell_type": "markdown",
   "metadata": {},
   "source": [
    "**Información básica de cada una de las columnas:**"
   ]
  },
  {
   "cell_type": "code",
   "execution_count": null,
   "metadata": {},
   "outputs": [],
   "source": [
    "#La información muestra: Cuenta de los datos, promedio, tipo de datos, frecuencia, cuartiles, entre otros.\n",
    "suicidios.info()\n",
    "suicidios['country'].describe()\n",
    "suicidios['year'].describe()\n",
    "suicidios['sex'].describe()\n",
    "suicidios['age'].describe()\n",
    "suicidios['suicides_no'].describe()\n",
    "suicidios['population'].describe()\n",
    "suicidios['suicides/100k pop'].describe()\n",
    "suicidios['country-year'].describe()\n",
    "suicidios['HDI for year'].describe()\n",
    "suicidios[' gdp_for_year ($) '].describe()\n",
    "suicidios['gdp_per_capita ($)'].describe()\n",
    "suicidios['generation'].describe()"
   ]
  },
  {
   "cell_type": "markdown",
   "metadata": {},
   "source": [
    "**Localización de los datos nulos en la base de datos.**"
   ]
  },
  {
   "cell_type": "code",
   "execution_count": 1,
   "metadata": {},
   "outputs": [
    {
     "ename": "NameError",
     "evalue": "name 'suicidios' is not defined",
     "output_type": "error",
     "traceback": [
      "\u001b[1;31m---------------------------------------------------------------------------\u001b[0m",
      "\u001b[1;31mNameError\u001b[0m                                 Traceback (most recent call last)",
      "\u001b[1;32m<ipython-input-1-d324994e45c9>\u001b[0m in \u001b[0;36m<module>\u001b[1;34m\u001b[0m\n\u001b[1;32m----> 1\u001b[1;33m \u001b[0msuicidios\u001b[0m\u001b[1;33m.\u001b[0m\u001b[0misnull\u001b[0m\u001b[1;33m(\u001b[0m\u001b[1;33m)\u001b[0m\u001b[1;33m.\u001b[0m\u001b[0many\u001b[0m\u001b[1;33m(\u001b[0m\u001b[1;33m)\u001b[0m\u001b[1;33m\u001b[0m\u001b[1;33m\u001b[0m\u001b[0m\n\u001b[0m\u001b[0;32m      2\u001b[0m \u001b[1;33m\u001b[0m\u001b[0m\n\u001b[0;32m      3\u001b[0m \u001b[1;31m#La única columna que presenta datos nulos es “HDI for year”\u001b[0m\u001b[1;33m\u001b[0m\u001b[1;33m\u001b[0m\u001b[1;33m\u001b[0m\u001b[0m\n",
      "\u001b[1;31mNameError\u001b[0m: name 'suicidios' is not defined"
     ]
    }
   ],
   "source": [
    "suicidios.isnull().any()\n",
    "\n",
    "#La única columna que presenta datos nulos es “HDI for year”"
   ]
  },
  {
   "cell_type": "markdown",
   "metadata": {},
   "source": [
    "**Eliminar columnas no deseadas:**"
   ]
  },
  {
   "cell_type": "code",
   "execution_count": null,
   "metadata": {},
   "outputs": [],
   "source": [
    "#Se eliminarán las columnas \"country-year\",\"HDI for year\", \"gdp_per_capita($)\" ya que la información no será irelevante\n",
    "#La columna \"country-year\" es una concatenación de las primeras 2 columnas, en tal caso, nos parece irrelevante.\n",
    "#Columna \"HDI for year\" contiene muchos datos nulos sobre el indice de desarrollo humano, por lo tanto, la eliminamos.\n",
    "#Columna \"gdp_per_capita($)\", utilizaremos unicamente la información en \"gdp_for_years($)\" que es información del PIB por años\n",
    "#Columna \"age\" eliminada para modificar la información dentro \n",
    "suicidios_limpieza=suicidios.drop(['country-year','HDI for year',' gdp_per_capita ($) ','age'],axis = 1 )\n",
    "\n",
    "#Visualización de la base de datos sin las columnas\n",
    "print(suicidios_limpieza)\n",
    "\n",
    "#Modificación de la columna \"age\", eliminando la palabra \"years\" para evitar el repetir las palabras\n",
    "letras_eliminados=suicidios['age'].str.replace('years','')\n",
    "\n",
    "#Se agregan los datos sin la palabra \"years\"\n",
    "suicidios_limpieza.insert(4,'age',letras_eliminados)"
   ]
  },
  {
   "cell_type": "markdown",
   "metadata": {},
   "source": [
    "**Crear nuevo archivo con la base de datos editada:**"
   ]
  },
  {
   "cell_type": "code",
   "execution_count": null,
   "metadata": {},
   "outputs": [],
   "source": [
    "#Creación del nuevo documento modificado\n",
    "suicidios_limpieza.to_csv('suicidios-limpieza.csv', header = False, index = False)"
   ]
  }
 ],
 "metadata": {
  "kernelspec": {
   "display_name": "Python 3",
   "language": "python",
   "name": "python3"
  },
  "language_info": {
   "codemirror_mode": {
    "name": "ipython",
    "version": 3
   },
   "file_extension": ".py",
   "mimetype": "text/x-python",
   "name": "python",
   "nbconvert_exporter": "python",
   "pygments_lexer": "ipython3",
   "version": "3.8.5"
  }
 },
 "nbformat": 4,
 "nbformat_minor": 4
}
